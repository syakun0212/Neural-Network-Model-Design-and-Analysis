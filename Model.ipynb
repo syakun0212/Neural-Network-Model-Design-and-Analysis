{
 "cells": [
  {
   "cell_type": "markdown",
   "metadata": {
    "id": "CL5R2O5fqmBC"
   },
   "source": [
    "# Neural Network Design and Aanalysis"
   ]
  },
  {
   "cell_type": "markdown",
   "metadata": {
    "id": "4XO7cSYFrm4R"
   },
   "source": [
    "---"
   ]
  },
  {
   "cell_type": "code",
   "execution_count": null,
   "metadata": {
    "id": "WHyvgXzbckke"
   },
   "outputs": [],
   "source": [
    "import torch\n",
    "import torch.nn as nn\n",
    "import torch.nn.functional as F\n",
    "import torch.optim as optim\n",
    "from random import randint\n",
    "import time\n",
    "import numpy as np\n",
    "import matplotlib.pyplot as plt\n",
    "import pandas as pd"
   ]
  },
  {
   "cell_type": "markdown",
   "metadata": {
    "id": "lQt7d0J4q6vj"
   },
   "source": [
    "## 0. Data preparation & defining functions \n",
    "\n",
    "\n"
   ]
  },
  {
   "cell_type": "code",
   "execution_count": null,
   "metadata": {
    "id": "k9AXxJ5Gc0wV"
   },
   "outputs": [],
   "source": [
    "def display_num_param(net):\n",
    "\tnb_param = 0\n",
    "\tfor param in net.parameters():\n",
    "\t    nb_param += param.numel()\n",
    "\tprint('There are {} ({:.2f} million) parameters in this neural network'.format(\n",
    "\t\tnb_param, nb_param/1e6)\n",
    "\t     )"
   ]
  },
  {
   "cell_type": "code",
   "execution_count": null,
   "metadata": {
    "id": "axtNlNPec2Cu"
   },
   "outputs": [],
   "source": [
    "def get_error( scores , labels ):\n",
    "\n",
    "    bs=scores.size(0)\n",
    "    predicted_labels = scores.argmax(dim=1)\n",
    "    indicator = (predicted_labels == labels)\n",
    "    num_matches=indicator.sum()\n",
    "    \n",
    "    return 1-num_matches.float()/bs "
   ]
  },
  {
   "cell_type": "code",
   "execution_count": null,
   "metadata": {
    "id": "xAiMHe-Zc27J"
   },
   "outputs": [],
   "source": [
    "def show(X):\n",
    "    if X.dim() == 3 and X.size(0) == 3:\n",
    "        plt.imshow( np.transpose(  X.numpy() , (1, 2, 0))  )\n",
    "        plt.show()\n",
    "    elif X.dim() == 2:\n",
    "        plt.imshow(   X.numpy() , cmap='gray'  )\n",
    "        plt.show()\n",
    "    else:\n",
    "        print('WRONG TENSOR SIZE')"
   ]
  },
  {
   "cell_type": "code",
   "execution_count": null,
   "metadata": {
    "id": "ZddmIwotc338"
   },
   "outputs": [],
   "source": [
    "def show_prob_mnist(p):\n",
    "\n",
    "    p=p.data.squeeze().numpy()\n",
    "\n",
    "    ft=15\n",
    "    label = ('zero', 'one', 'two', 'three', 'four', 'five', 'six', 'seven', 'eight','nine')\n",
    "    #p=p.data.squeeze().numpy()\n",
    "    y_pos = np.arange(len(p))*1.2\n",
    "    target=2\n",
    "    width=0.9\n",
    "    col= 'blue'\n",
    "    #col='darkgreen'\n",
    "\n",
    "    plt.rcdefaults()\n",
    "    fig, ax = plt.subplots()\n",
    "\n",
    "    # the plot\n",
    "    ax.barh(y_pos, p, width , align='center', color=col)\n",
    "\n",
    "    ax.set_xlim([0, 1.3])\n",
    "    #ax.set_ylim([-0.8, len(p)*1.2-1+0.8])\n",
    "\n",
    "    # y label\n",
    "    ax.set_yticks(y_pos)\n",
    "    ax.set_yticklabels(label, fontsize=ft)\n",
    "    ax.invert_yaxis()  \n",
    "    #ax.set_xlabel('Performance')\n",
    "    #ax.set_title('How fast do you want to go today?')\n",
    "\n",
    "    # x label\n",
    "    ax.set_xticklabels([])\n",
    "    ax.set_xticks([])\n",
    "    #x_pos=np.array([0, 0.25 , 0.5 , 0.75 , 1])\n",
    "    #ax.set_xticks(x_pos)\n",
    "    #ax.set_xticklabels( [0, 0.25 , 0.5 , 0.75 , 1] , fontsize=15)\n",
    "\n",
    "    ax.spines['right'].set_visible(False)\n",
    "    ax.spines['top'].set_visible(False)\n",
    "    ax.spines['bottom'].set_visible(False)\n",
    "    ax.spines['left'].set_linewidth(4)\n",
    "\n",
    "\n",
    "    for i in range(len(p)):\n",
    "        str_nb=\"{0:.2f}\".format(p[i])\n",
    "        ax.text( p[i] + 0.05 , y_pos[i] ,str_nb ,\n",
    "                 horizontalalignment='left', verticalalignment='center',\n",
    "                 transform=ax.transData, color= col,fontsize=ft)\n",
    "\n",
    "    plt.show()\n",
    "    #fig.savefig('pic/prob', dpi=96, bbox_inches=\"tight\")"
   ]
  },
  {
   "cell_type": "code",
   "execution_count": null,
   "metadata": {
    "id": "izAMxfWVd8rd"
   },
   "outputs": [],
   "source": [
    "import scipy.io"
   ]
  },
  {
   "cell_type": "code",
   "execution_count": null,
   "metadata": {
    "colab": {
     "base_uri": "https://localhost:8080/"
    },
    "id": "q2G7s1VjfnrN",
    "outputId": "e88b4b35-d7a5-40b3-a8d5-b760b73f1584"
   },
   "outputs": [
    {
     "name": "stdout",
     "output_type": "stream",
     "text": [
      "Drive already mounted at /content/drive; to attempt to forcibly remount, call drive.mount(\"/content/drive\", force_remount=True).\n"
     ]
    }
   ],
   "source": [
    "from google.colab import drive\n",
    "drive.mount('/content/drive')"
   ]
  },
  {
   "cell_type": "code",
   "execution_count": null,
   "metadata": {
    "id": "36I8v_Pjd8t6"
   },
   "outputs": [],
   "source": [
    "mat = scipy.io.loadmat('/content/drive/My Drive/CZ3005_Lab2/OQC.mat')"
   ]
  },
  {
   "cell_type": "code",
   "execution_count": null,
   "metadata": {
    "colab": {
     "base_uri": "https://localhost:8080/"
    },
    "id": "duLRW801d8wf",
    "outputId": "362d02e3-bb40-453c-f565-a105fb4196cb"
   },
   "outputs": [
    {
     "data": {
      "text/plain": [
       "array([[0.39052473, 0.14779758, 0.1563981 , ..., 0.07962529, 0.92246927,\n",
       "        2.        ],\n",
       "       [0.39052473, 0.14779758, 0.1563981 , ..., 0.05367681, 0.92148159,\n",
       "        2.        ],\n",
       "       [0.5084938 , 0.14779758, 0.1563981 , ..., 0.05611241, 0.9204939 ,\n",
       "        2.        ],\n",
       "       ...,\n",
       "       [0.54001505, 0.00982888, 0.77251185, ..., 0.05611241, 0.93135813,\n",
       "        0.        ],\n",
       "       [0.60664394, 0.00982888, 0.77251185, ..., 0.05658079, 0.93086416,\n",
       "        0.        ],\n",
       "       [0.7189506 , 0.00982888, 0.77251185, ..., 0.05658079, 0.93086416,\n",
       "        0.        ]])"
      ]
     },
     "execution_count": 9,
     "metadata": {},
     "output_type": "execute_result"
    }
   ],
   "source": [
    "data=mat['data']\n",
    "data"
   ]
  },
  {
   "cell_type": "code",
   "execution_count": null,
   "metadata": {
    "colab": {
     "base_uri": "https://localhost:8080/"
    },
    "id": "FiEYYn8Lm1Ns",
    "outputId": "af98ad49-379c-4b6e-f02d-efae4ef07aa6"
   },
   "outputs": [
    {
     "name": "stdout",
     "output_type": "stream",
     "text": [
      "torch.Size([2066, 48])\n",
      "torch.Size([2066])\n",
      "torch.Size([886, 48])\n",
      "torch.Size([886])\n"
     ]
    }
   ],
   "source": [
    "# split train and test \n",
    "import pandas as pd\n",
    "import numpy as np\n",
    "#use this package just to split train and test dataset only\n",
    "from sklearn.model_selection import train_test_split \n",
    "data_df = pd.DataFrame(data)\n",
    "\n",
    "train_data, test_data, train_label, test_label = train_test_split(data_df.iloc[:,0:48], data_df.iloc[:,-1], test_size=0.3, random_state=42)\n",
    "\n",
    "train_data = train_data.to_numpy()\n",
    "train_label=train_label.to_numpy()\n",
    "test_data=test_data.to_numpy()\n",
    "test_label=test_label.to_numpy()\n",
    "\n",
    "train_data = torch.Tensor(train_data)\n",
    "train_label=torch.LongTensor(train_label)\n",
    "test_data=torch.Tensor(test_data)\n",
    "test_label=torch.LongTensor(test_label)\n",
    "\n",
    "# check train and test size \n",
    "print(train_data.size())\n",
    "print(train_label.size())\n",
    "print(test_data.size())\n",
    "print(test_label.size())\n"
   ]
  },
  {
   "cell_type": "code",
   "execution_count": null,
   "metadata": {
    "colab": {
     "base_uri": "https://localhost:8080/"
    },
    "id": "kfNYWU6NHLhI",
    "outputId": "435a7ab9-8569-4640-a57c-712f24e02ecd"
   },
   "outputs": [
    {
     "data": {
      "text/plain": [
       "tensor([[0.0880, 0.1048, 0.5972,  ..., 0.1887, 0.1887, 0.9817],\n",
       "        [1.0000, 0.0724, 0.4123,  ..., 0.0259, 0.0259, 0.9136],\n",
       "        [1.0000, 0.0750, 0.5403,  ..., 0.0266, 0.0266, 0.9170],\n",
       "        ...,\n",
       "        [1.0000, 0.1110, 0.2986,  ..., 0.0238, 0.0238, 0.9096],\n",
       "        [1.0000, 0.0131, 0.6209,  ..., 0.0259, 0.0259, 0.9304],\n",
       "        [1.0000, 0.0739, 0.3981,  ..., 0.0257, 0.0257, 0.9131]])"
      ]
     },
     "execution_count": 11,
     "metadata": {},
     "output_type": "execute_result"
    }
   ],
   "source": [
    "\n",
    "test_data"
   ]
  },
  {
   "cell_type": "markdown",
   "metadata": {
    "id": "VlDlUze-ryDn"
   },
   "source": [
    "## 1. Model Design and Implementation"
   ]
  },
  {
   "cell_type": "markdown",
   "metadata": {
    "id": "3yejDZR75EDs"
   },
   "source": [
    "\n",
    "##### Defining model, training, and testing functions:**\n"
   ]
  },
  {
   "cell_type": "code",
   "execution_count": null,
   "metadata": {
    "id": "OIMZhy1aVWm9"
   },
   "outputs": [],
   "source": [
    "# Define the 3-layer NN model \n",
    "\n",
    "class three_layer_net(nn.Module):\n",
    "\n",
    "    def __init__(self, input_size, hidden_size1, hidden_size2,  output_size):\n",
    "        super(three_layer_net , self).__init__()\n",
    "        \n",
    "        self.layer1 = nn.Linear(  input_size   , hidden_size1  , bias=False  )\n",
    "        self.layer2 = nn.Linear(  hidden_size1 , hidden_size2  , bias=False  )\n",
    "        self.layer3 = nn.Linear(  hidden_size2 , output_size   , bias=False  )\n",
    "        \n",
    "    def forward(self, x):\n",
    "        \n",
    "        y = self.layer1(x)\n",
    "        y_hat = F.relu(y)\n",
    "        z = self.layer2(y_hat)\n",
    "        z_hat = F.relu(z)\n",
    "        scores = self.layer3(z_hat)\n",
    "        \n",
    "        return scores"
   ]
  },
  {
   "cell_type": "code",
   "execution_count": null,
   "metadata": {
    "id": "feoLVrAtWN4K"
   },
   "outputs": [],
   "source": [
    "# Define NN testing function\n",
    "\n",
    "def testing_nn(bs, net):\n",
    "  running_error=0\n",
    "  num_batches=0\n",
    "\n",
    "  for i in range(0,int(len(test_data))-1,bs):\n",
    "\n",
    "      # extract the minibatch\n",
    "      minibatch_data =  test_data[i:i+bs]\n",
    "      minibatch_label= test_label[i:i+bs]\n",
    "\n",
    "      # reshape the minibatch\n",
    "      # inputs = minibatch_data.view(bs,48)\n",
    "      inputs = minibatch_data\n",
    "\n",
    "      # feed it to the network\n",
    "      scores=net( inputs )\n",
    "      \n",
    "      # compute the error made on this batch\n",
    "      error = get_error( scores , minibatch_label)\n",
    "      \n",
    "      # add it to the running error\n",
    "      running_error += error.item()\n",
    "\n",
    "      num_batches+=1\n",
    "      \n",
    "  # compute error rate on the full test set\n",
    "  total_error = running_error/num_batches\n",
    "\n",
    "  print( 'error rate on test set =', total_error*100 ,'percent')\n",
    "\n",
    "  return total_error\n"
   ]
  },
  {
   "cell_type": "code",
   "execution_count": null,
   "metadata": {
    "id": "RF-uY5CrVbDV"
   },
   "outputs": [],
   "source": [
    "# Define NN Training function \n",
    "\n",
    "def training_nn(no_of_epochs, bs, lr,net):\n",
    "    criterion = nn.CrossEntropyLoss()\n",
    "    optimizer = optimizer=torch.optim.SGD(net.parameters() , lr=lr )\n",
    "  \n",
    "    start = time.time()\n",
    "\n",
    "    for epoch in range(no_of_epochs):\n",
    "    \n",
    "        running_loss=0\n",
    "        running_error=0\n",
    "        num_batches=0\n",
    "\n",
    "        shuffled_indices=torch.randperm(len(train_data))\n",
    "\n",
    "        for count in range(1, int(len(train_data))-1, bs):\n",
    " \n",
    "            # Set dL/dU, dL/dV, dL/dW to be filled with zeros\n",
    "            optimizer.zero_grad()\n",
    "\n",
    "            # create a minibatch\n",
    "            indices=shuffled_indices[count:count+bs]\n",
    "            minibatch_data =  train_data[indices]\n",
    "            minibatch_label= train_label[indices]\n",
    "\n",
    "            #reshape the minibatch\n",
    "            ##inputs = minibatch_data.view(bs,48)\n",
    "            inputs = minibatch_data\n",
    "\n",
    "            # tell Pytorch to start tracking all operations that will be done on \"inputs\"\n",
    "            inputs.requires_grad_()\n",
    "\n",
    "            # forward the minibatch through the net  \n",
    "            scores=net( inputs ) \n",
    "\n",
    "            # Compute the average of the losses of the data points in the minibatch\n",
    "            loss = criterion(scores , minibatch_label) \n",
    "\n",
    "            # backward pass to compute dL/dU, dL/dV and dL/dW    \n",
    "            loss.backward()\n",
    "\n",
    "            # do one step of stochastic gradient descent: U=U-lr(dL/dU), V=V-lr(dL/dU), ...\n",
    "            optimizer.step()\n",
    "\n",
    "            # compute and accumulate stats\n",
    "            running_loss += loss.detach().item()\n",
    "            error = get_error( scores.detach() , minibatch_label)\n",
    "            running_error += error.item()\n",
    "            \n",
    "            ###print(error.item())\n",
    "            ###print(\"running error\",running_error)\n",
    "            num_batches+=1\n",
    "\n",
    "        # End of inner for-loop \n",
    "\n",
    "        # compute stats for the full training set\n",
    "        total_loss = running_loss/num_batches\n",
    "        total_error = running_error/num_batches\n",
    "        elapsed = time.time()-start\n",
    "\n",
    "        ##print('epoch=',epoch, '\\t loss=', total_loss , '\\t error=', total_error*100 ,'percent')\n",
    "        if epoch%10 == 0:\n",
    "            print('epoch=',epoch, '\\t time=', elapsed, '\\t loss=', total_loss , '\\t error=', total_error*100 ,'percent')\n",
    "           # testing_nn(bs, net) \n",
    "            print(' ')\n",
    "\n",
    "    #End of outer for-loop\n",
    "    return total_loss, total_error, time.time()\n"
   ]
  },
  {
   "cell_type": "markdown",
   "metadata": {
    "id": "JMWTnLYB5keT"
   },
   "source": [
    "##### **Find the optimal sets of hyper parameters**"
   ]
  },
  {
   "cell_type": "code",
   "execution_count": null,
   "metadata": {
    "colab": {
     "base_uri": "https://localhost:8080/"
    },
    "id": "6abEVjSMYasI",
    "outputId": "641d31fd-84e4-4f12-c895-e95fd260ef8d"
   },
   "outputs": [],
   "source": [
    "# Run the model to find the optimal hyperparameters \n",
    "\n",
    "# Create a dataframe to store the results \n",
    "import pandas as pd\n",
    "results_q1 = pd.DataFrame(columns = [\"lr\",\"nodes_hidden_1\", \"nodes_hidden_2\", \"no_of_epochs\",\"bs\",\"train_loss\", \"train_error\", \"train_time\", \"test_error\"])\n",
    "\n",
    "# hyperparameters inputs to be looped through \n",
    "learning_rates = [0.01,0.05,0.1] # commonly-used learning rates \n",
    "nodes_hidden_1_loop = [5,25,45]\n",
    "nodes_hidden_2_loop = [5,25,45]\n",
    "minibatch_sizes = [10,20,200,500]\n",
    "epochs = [10,20,50,100]\n",
    "\n",
    "# loop through all possible combinations of the hyperparameters \n",
    "for lr in learning_rates:\n",
    "  for nodes_hidden_1 in nodes_hidden_1_loop:\n",
    "    for nodes_hidden_2 in nodes_hidden_2_loop:\n",
    "      if nodes_hidden_2 <= nodes_hidden_1:\n",
    "        for no_of_epochs in epochs:\n",
    "          for  bs in minibatch_sizes:\n",
    "            net = three_layer_net(48, nodes_hidden_1, nodes_hidden_2, 3)\n",
    "            train_loss, train_error, train_time = training_nn(no_of_epochs, bs, lr,net)\n",
    "            test_error = testing_nn(bs, net)\n",
    "\n",
    "            result = [lr,nodes_hidden_1,nodes_hidden_2,no_of_epochs,bs,train_loss,train_error,train_time,test_error]\n",
    "            print(result)\n",
    "\n",
    "            result = pd.Series(result, index = results_q1.columns)\n",
    "            results_q1 = results_q1.append(result, ignore_index=True)\n"
   ]
  },
  {
   "cell_type": "code",
   "execution_count": null,
   "metadata": {
    "colab": {
     "base_uri": "https://localhost:8080/",
     "height": 408
    },
    "id": "RHYqyj6L3gRv",
    "outputId": "e50ad3a2-423e-4c45-ef98-3d88ff02dc57"
   },
   "outputs": [
    {
     "data": {
      "text/html": [
       "<div>\n",
       "<style scoped>\n",
       "    .dataframe tbody tr th:only-of-type {\n",
       "        vertical-align: middle;\n",
       "    }\n",
       "\n",
       "    .dataframe tbody tr th {\n",
       "        vertical-align: top;\n",
       "    }\n",
       "\n",
       "    .dataframe thead th {\n",
       "        text-align: right;\n",
       "    }\n",
       "</style>\n",
       "<table border=\"1\" class=\"dataframe\">\n",
       "  <thead>\n",
       "    <tr style=\"text-align: right;\">\n",
       "      <th></th>\n",
       "      <th>lr</th>\n",
       "      <th>nodes_hidden_1</th>\n",
       "      <th>nodes_hidden_2</th>\n",
       "      <th>no_of_epochs</th>\n",
       "      <th>bs</th>\n",
       "      <th>train_loss</th>\n",
       "      <th>train_error</th>\n",
       "      <th>train_time</th>\n",
       "      <th>test_error</th>\n",
       "    </tr>\n",
       "  </thead>\n",
       "  <tbody>\n",
       "    <tr>\n",
       "      <th>0</th>\n",
       "      <td>0.01</td>\n",
       "      <td>5.0</td>\n",
       "      <td>5.0</td>\n",
       "      <td>10.0</td>\n",
       "      <td>10.0</td>\n",
       "      <td>0.933388</td>\n",
       "      <td>0.671498</td>\n",
       "      <td>1.635172e+09</td>\n",
       "      <td>0.619850</td>\n",
       "    </tr>\n",
       "    <tr>\n",
       "      <th>1</th>\n",
       "      <td>0.01</td>\n",
       "      <td>5.0</td>\n",
       "      <td>5.0</td>\n",
       "      <td>10.0</td>\n",
       "      <td>20.0</td>\n",
       "      <td>1.087997</td>\n",
       "      <td>0.564423</td>\n",
       "      <td>1.635172e+09</td>\n",
       "      <td>0.572222</td>\n",
       "    </tr>\n",
       "    <tr>\n",
       "      <th>2</th>\n",
       "      <td>0.01</td>\n",
       "      <td>5.0</td>\n",
       "      <td>5.0</td>\n",
       "      <td>10.0</td>\n",
       "      <td>200.0</td>\n",
       "      <td>1.098078</td>\n",
       "      <td>0.606329</td>\n",
       "      <td>1.635172e+09</td>\n",
       "      <td>0.590581</td>\n",
       "    </tr>\n",
       "    <tr>\n",
       "      <th>3</th>\n",
       "      <td>0.01</td>\n",
       "      <td>5.0</td>\n",
       "      <td>5.0</td>\n",
       "      <td>10.0</td>\n",
       "      <td>500.0</td>\n",
       "      <td>1.098588</td>\n",
       "      <td>0.691631</td>\n",
       "      <td>1.635172e+09</td>\n",
       "      <td>0.679674</td>\n",
       "    </tr>\n",
       "    <tr>\n",
       "      <th>4</th>\n",
       "      <td>0.01</td>\n",
       "      <td>5.0</td>\n",
       "      <td>5.0</td>\n",
       "      <td>20.0</td>\n",
       "      <td>10.0</td>\n",
       "      <td>0.831674</td>\n",
       "      <td>0.362319</td>\n",
       "      <td>1.635172e+09</td>\n",
       "      <td>0.373408</td>\n",
       "    </tr>\n",
       "    <tr>\n",
       "      <th>...</th>\n",
       "      <td>...</td>\n",
       "      <td>...</td>\n",
       "      <td>...</td>\n",
       "      <td>...</td>\n",
       "      <td>...</td>\n",
       "      <td>...</td>\n",
       "      <td>...</td>\n",
       "      <td>...</td>\n",
       "      <td>...</td>\n",
       "    </tr>\n",
       "    <tr>\n",
       "      <th>283</th>\n",
       "      <td>0.10</td>\n",
       "      <td>45.0</td>\n",
       "      <td>45.0</td>\n",
       "      <td>50.0</td>\n",
       "      <td>500.0</td>\n",
       "      <td>0.351454</td>\n",
       "      <td>0.129692</td>\n",
       "      <td>1.635172e+09</td>\n",
       "      <td>0.220580</td>\n",
       "    </tr>\n",
       "    <tr>\n",
       "      <th>284</th>\n",
       "      <td>0.10</td>\n",
       "      <td>45.0</td>\n",
       "      <td>45.0</td>\n",
       "      <td>100.0</td>\n",
       "      <td>10.0</td>\n",
       "      <td>0.000095</td>\n",
       "      <td>0.000000</td>\n",
       "      <td>1.635172e+09</td>\n",
       "      <td>0.000000</td>\n",
       "    </tr>\n",
       "    <tr>\n",
       "      <th>285</th>\n",
       "      <td>0.10</td>\n",
       "      <td>45.0</td>\n",
       "      <td>45.0</td>\n",
       "      <td>100.0</td>\n",
       "      <td>20.0</td>\n",
       "      <td>0.000224</td>\n",
       "      <td>0.000000</td>\n",
       "      <td>1.635172e+09</td>\n",
       "      <td>0.000000</td>\n",
       "    </tr>\n",
       "    <tr>\n",
       "      <th>286</th>\n",
       "      <td>0.10</td>\n",
       "      <td>45.0</td>\n",
       "      <td>45.0</td>\n",
       "      <td>100.0</td>\n",
       "      <td>200.0</td>\n",
       "      <td>0.021470</td>\n",
       "      <td>0.000455</td>\n",
       "      <td>1.635172e+09</td>\n",
       "      <td>0.007000</td>\n",
       "    </tr>\n",
       "    <tr>\n",
       "      <th>287</th>\n",
       "      <td>0.10</td>\n",
       "      <td>45.0</td>\n",
       "      <td>45.0</td>\n",
       "      <td>100.0</td>\n",
       "      <td>500.0</td>\n",
       "      <td>0.106800</td>\n",
       "      <td>0.030277</td>\n",
       "      <td>1.635172e+09</td>\n",
       "      <td>0.022658</td>\n",
       "    </tr>\n",
       "  </tbody>\n",
       "</table>\n",
       "<p>288 rows × 9 columns</p>\n",
       "</div>"
      ],
      "text/plain": [
       "       lr  nodes_hidden_1  ...    train_time  test_error\n",
       "0    0.01             5.0  ...  1.635172e+09    0.619850\n",
       "1    0.01             5.0  ...  1.635172e+09    0.572222\n",
       "2    0.01             5.0  ...  1.635172e+09    0.590581\n",
       "3    0.01             5.0  ...  1.635172e+09    0.679674\n",
       "4    0.01             5.0  ...  1.635172e+09    0.373408\n",
       "..    ...             ...  ...           ...         ...\n",
       "283  0.10            45.0  ...  1.635172e+09    0.220580\n",
       "284  0.10            45.0  ...  1.635172e+09    0.000000\n",
       "285  0.10            45.0  ...  1.635172e+09    0.000000\n",
       "286  0.10            45.0  ...  1.635172e+09    0.007000\n",
       "287  0.10            45.0  ...  1.635172e+09    0.022658\n",
       "\n",
       "[288 rows x 9 columns]"
      ]
     },
     "execution_count": 350,
     "metadata": {},
     "output_type": "execute_result"
    }
   ],
   "source": [
    "# view results dataframe \n",
    "results_q1"
   ]
  },
  {
   "cell_type": "code",
   "execution_count": null,
   "metadata": {
    "colab": {
     "base_uri": "https://localhost:8080/",
     "height": 1000
    },
    "id": "tRi8Xewo3wMg",
    "outputId": "b5a8972c-cb15-4b00-b7aa-beb35098a75d"
   },
   "outputs": [
    {
     "data": {
      "text/html": [
       "<div>\n",
       "<style scoped>\n",
       "    .dataframe tbody tr th:only-of-type {\n",
       "        vertical-align: middle;\n",
       "    }\n",
       "\n",
       "    .dataframe tbody tr th {\n",
       "        vertical-align: top;\n",
       "    }\n",
       "\n",
       "    .dataframe thead th {\n",
       "        text-align: right;\n",
       "    }\n",
       "</style>\n",
       "<table border=\"1\" class=\"dataframe\">\n",
       "  <thead>\n",
       "    <tr style=\"text-align: right;\">\n",
       "      <th></th>\n",
       "      <th>lr</th>\n",
       "      <th>nodes_hidden_1</th>\n",
       "      <th>nodes_hidden_2</th>\n",
       "      <th>no_of_epochs</th>\n",
       "      <th>bs</th>\n",
       "      <th>train_loss</th>\n",
       "      <th>train_error</th>\n",
       "      <th>train_time</th>\n",
       "      <th>test_error</th>\n",
       "    </tr>\n",
       "  </thead>\n",
       "  <tbody>\n",
       "    <tr>\n",
       "      <th>12</th>\n",
       "      <td>0.01</td>\n",
       "      <td>5.0</td>\n",
       "      <td>5.0</td>\n",
       "      <td>100.0</td>\n",
       "      <td>10.0</td>\n",
       "      <td>0.005603</td>\n",
       "      <td>0.000000</td>\n",
       "      <td>1.635172e+09</td>\n",
       "      <td>0.0</td>\n",
       "    </tr>\n",
       "    <tr>\n",
       "      <th>28</th>\n",
       "      <td>0.01</td>\n",
       "      <td>25.0</td>\n",
       "      <td>5.0</td>\n",
       "      <td>100.0</td>\n",
       "      <td>10.0</td>\n",
       "      <td>0.005088</td>\n",
       "      <td>0.000000</td>\n",
       "      <td>1.635172e+09</td>\n",
       "      <td>0.0</td>\n",
       "    </tr>\n",
       "    <tr>\n",
       "      <th>44</th>\n",
       "      <td>0.01</td>\n",
       "      <td>25.0</td>\n",
       "      <td>25.0</td>\n",
       "      <td>100.0</td>\n",
       "      <td>10.0</td>\n",
       "      <td>0.004757</td>\n",
       "      <td>0.000000</td>\n",
       "      <td>1.635172e+09</td>\n",
       "      <td>0.0</td>\n",
       "    </tr>\n",
       "    <tr>\n",
       "      <th>60</th>\n",
       "      <td>0.01</td>\n",
       "      <td>45.0</td>\n",
       "      <td>5.0</td>\n",
       "      <td>100.0</td>\n",
       "      <td>10.0</td>\n",
       "      <td>0.006872</td>\n",
       "      <td>0.000000</td>\n",
       "      <td>1.635172e+09</td>\n",
       "      <td>0.0</td>\n",
       "    </tr>\n",
       "    <tr>\n",
       "      <th>72</th>\n",
       "      <td>0.01</td>\n",
       "      <td>45.0</td>\n",
       "      <td>25.0</td>\n",
       "      <td>50.0</td>\n",
       "      <td>10.0</td>\n",
       "      <td>0.025286</td>\n",
       "      <td>0.001449</td>\n",
       "      <td>1.635172e+09</td>\n",
       "      <td>0.0</td>\n",
       "    </tr>\n",
       "    <tr>\n",
       "      <th>76</th>\n",
       "      <td>0.01</td>\n",
       "      <td>45.0</td>\n",
       "      <td>25.0</td>\n",
       "      <td>100.0</td>\n",
       "      <td>10.0</td>\n",
       "      <td>0.004988</td>\n",
       "      <td>0.000000</td>\n",
       "      <td>1.635172e+09</td>\n",
       "      <td>0.0</td>\n",
       "    </tr>\n",
       "    <tr>\n",
       "      <th>77</th>\n",
       "      <td>0.01</td>\n",
       "      <td>45.0</td>\n",
       "      <td>25.0</td>\n",
       "      <td>100.0</td>\n",
       "      <td>20.0</td>\n",
       "      <td>0.021194</td>\n",
       "      <td>0.000000</td>\n",
       "      <td>1.635172e+09</td>\n",
       "      <td>0.0</td>\n",
       "    </tr>\n",
       "    <tr>\n",
       "      <th>92</th>\n",
       "      <td>0.01</td>\n",
       "      <td>45.0</td>\n",
       "      <td>45.0</td>\n",
       "      <td>100.0</td>\n",
       "      <td>10.0</td>\n",
       "      <td>0.005240</td>\n",
       "      <td>0.000000</td>\n",
       "      <td>1.635172e+09</td>\n",
       "      <td>0.0</td>\n",
       "    </tr>\n",
       "    <tr>\n",
       "      <th>93</th>\n",
       "      <td>0.01</td>\n",
       "      <td>45.0</td>\n",
       "      <td>45.0</td>\n",
       "      <td>100.0</td>\n",
       "      <td>20.0</td>\n",
       "      <td>0.019040</td>\n",
       "      <td>0.000000</td>\n",
       "      <td>1.635172e+09</td>\n",
       "      <td>0.0</td>\n",
       "    </tr>\n",
       "    <tr>\n",
       "      <th>100</th>\n",
       "      <td>0.05</td>\n",
       "      <td>5.0</td>\n",
       "      <td>5.0</td>\n",
       "      <td>20.0</td>\n",
       "      <td>10.0</td>\n",
       "      <td>0.009194</td>\n",
       "      <td>0.000483</td>\n",
       "      <td>1.635172e+09</td>\n",
       "      <td>0.0</td>\n",
       "    </tr>\n",
       "    <tr>\n",
       "      <th>104</th>\n",
       "      <td>0.05</td>\n",
       "      <td>5.0</td>\n",
       "      <td>5.0</td>\n",
       "      <td>50.0</td>\n",
       "      <td>10.0</td>\n",
       "      <td>0.001339</td>\n",
       "      <td>0.000000</td>\n",
       "      <td>1.635172e+09</td>\n",
       "      <td>0.0</td>\n",
       "    </tr>\n",
       "    <tr>\n",
       "      <th>108</th>\n",
       "      <td>0.05</td>\n",
       "      <td>5.0</td>\n",
       "      <td>5.0</td>\n",
       "      <td>100.0</td>\n",
       "      <td>10.0</td>\n",
       "      <td>0.000346</td>\n",
       "      <td>0.000000</td>\n",
       "      <td>1.635172e+09</td>\n",
       "      <td>0.0</td>\n",
       "    </tr>\n",
       "    <tr>\n",
       "      <th>109</th>\n",
       "      <td>0.05</td>\n",
       "      <td>5.0</td>\n",
       "      <td>5.0</td>\n",
       "      <td>100.0</td>\n",
       "      <td>20.0</td>\n",
       "      <td>0.001402</td>\n",
       "      <td>0.000000</td>\n",
       "      <td>1.635172e+09</td>\n",
       "      <td>0.0</td>\n",
       "    </tr>\n",
       "    <tr>\n",
       "      <th>116</th>\n",
       "      <td>0.05</td>\n",
       "      <td>25.0</td>\n",
       "      <td>5.0</td>\n",
       "      <td>20.0</td>\n",
       "      <td>10.0</td>\n",
       "      <td>0.003402</td>\n",
       "      <td>0.000000</td>\n",
       "      <td>1.635172e+09</td>\n",
       "      <td>0.0</td>\n",
       "    </tr>\n",
       "    <tr>\n",
       "      <th>124</th>\n",
       "      <td>0.05</td>\n",
       "      <td>25.0</td>\n",
       "      <td>5.0</td>\n",
       "      <td>100.0</td>\n",
       "      <td>10.0</td>\n",
       "      <td>0.000325</td>\n",
       "      <td>0.000000</td>\n",
       "      <td>1.635172e+09</td>\n",
       "      <td>0.0</td>\n",
       "    </tr>\n",
       "    <tr>\n",
       "      <th>125</th>\n",
       "      <td>0.05</td>\n",
       "      <td>25.0</td>\n",
       "      <td>5.0</td>\n",
       "      <td>100.0</td>\n",
       "      <td>20.0</td>\n",
       "      <td>0.000736</td>\n",
       "      <td>0.000000</td>\n",
       "      <td>1.635172e+09</td>\n",
       "      <td>0.0</td>\n",
       "    </tr>\n",
       "    <tr>\n",
       "      <th>132</th>\n",
       "      <td>0.05</td>\n",
       "      <td>25.0</td>\n",
       "      <td>25.0</td>\n",
       "      <td>20.0</td>\n",
       "      <td>10.0</td>\n",
       "      <td>0.013522</td>\n",
       "      <td>0.001449</td>\n",
       "      <td>1.635172e+09</td>\n",
       "      <td>0.0</td>\n",
       "    </tr>\n",
       "    <tr>\n",
       "      <th>136</th>\n",
       "      <td>0.05</td>\n",
       "      <td>25.0</td>\n",
       "      <td>25.0</td>\n",
       "      <td>50.0</td>\n",
       "      <td>10.0</td>\n",
       "      <td>0.001082</td>\n",
       "      <td>0.000000</td>\n",
       "      <td>1.635172e+09</td>\n",
       "      <td>0.0</td>\n",
       "    </tr>\n",
       "    <tr>\n",
       "      <th>140</th>\n",
       "      <td>0.05</td>\n",
       "      <td>25.0</td>\n",
       "      <td>25.0</td>\n",
       "      <td>100.0</td>\n",
       "      <td>10.0</td>\n",
       "      <td>0.000271</td>\n",
       "      <td>0.000000</td>\n",
       "      <td>1.635172e+09</td>\n",
       "      <td>0.0</td>\n",
       "    </tr>\n",
       "    <tr>\n",
       "      <th>141</th>\n",
       "      <td>0.05</td>\n",
       "      <td>25.0</td>\n",
       "      <td>25.0</td>\n",
       "      <td>100.0</td>\n",
       "      <td>20.0</td>\n",
       "      <td>0.000847</td>\n",
       "      <td>0.000000</td>\n",
       "      <td>1.635172e+09</td>\n",
       "      <td>0.0</td>\n",
       "    </tr>\n",
       "    <tr>\n",
       "      <th>148</th>\n",
       "      <td>0.05</td>\n",
       "      <td>45.0</td>\n",
       "      <td>5.0</td>\n",
       "      <td>20.0</td>\n",
       "      <td>10.0</td>\n",
       "      <td>0.003850</td>\n",
       "      <td>0.000000</td>\n",
       "      <td>1.635172e+09</td>\n",
       "      <td>0.0</td>\n",
       "    </tr>\n",
       "    <tr>\n",
       "      <th>152</th>\n",
       "      <td>0.05</td>\n",
       "      <td>45.0</td>\n",
       "      <td>5.0</td>\n",
       "      <td>50.0</td>\n",
       "      <td>10.0</td>\n",
       "      <td>0.000721</td>\n",
       "      <td>0.000000</td>\n",
       "      <td>1.635172e+09</td>\n",
       "      <td>0.0</td>\n",
       "    </tr>\n",
       "    <tr>\n",
       "      <th>153</th>\n",
       "      <td>0.05</td>\n",
       "      <td>45.0</td>\n",
       "      <td>5.0</td>\n",
       "      <td>50.0</td>\n",
       "      <td>20.0</td>\n",
       "      <td>0.002834</td>\n",
       "      <td>0.000000</td>\n",
       "      <td>1.635172e+09</td>\n",
       "      <td>0.0</td>\n",
       "    </tr>\n",
       "    <tr>\n",
       "      <th>157</th>\n",
       "      <td>0.05</td>\n",
       "      <td>45.0</td>\n",
       "      <td>5.0</td>\n",
       "      <td>100.0</td>\n",
       "      <td>20.0</td>\n",
       "      <td>0.000986</td>\n",
       "      <td>0.000000</td>\n",
       "      <td>1.635172e+09</td>\n",
       "      <td>0.0</td>\n",
       "    </tr>\n",
       "    <tr>\n",
       "      <th>164</th>\n",
       "      <td>0.05</td>\n",
       "      <td>45.0</td>\n",
       "      <td>25.0</td>\n",
       "      <td>20.0</td>\n",
       "      <td>10.0</td>\n",
       "      <td>0.005841</td>\n",
       "      <td>0.000000</td>\n",
       "      <td>1.635172e+09</td>\n",
       "      <td>0.0</td>\n",
       "    </tr>\n",
       "    <tr>\n",
       "      <th>168</th>\n",
       "      <td>0.05</td>\n",
       "      <td>45.0</td>\n",
       "      <td>25.0</td>\n",
       "      <td>50.0</td>\n",
       "      <td>10.0</td>\n",
       "      <td>0.000727</td>\n",
       "      <td>0.000000</td>\n",
       "      <td>1.635172e+09</td>\n",
       "      <td>0.0</td>\n",
       "    </tr>\n",
       "    <tr>\n",
       "      <th>169</th>\n",
       "      <td>0.05</td>\n",
       "      <td>45.0</td>\n",
       "      <td>25.0</td>\n",
       "      <td>50.0</td>\n",
       "      <td>20.0</td>\n",
       "      <td>0.002980</td>\n",
       "      <td>0.000000</td>\n",
       "      <td>1.635172e+09</td>\n",
       "      <td>0.0</td>\n",
       "    </tr>\n",
       "    <tr>\n",
       "      <th>172</th>\n",
       "      <td>0.05</td>\n",
       "      <td>45.0</td>\n",
       "      <td>25.0</td>\n",
       "      <td>100.0</td>\n",
       "      <td>10.0</td>\n",
       "      <td>0.000308</td>\n",
       "      <td>0.000000</td>\n",
       "      <td>1.635172e+09</td>\n",
       "      <td>0.0</td>\n",
       "    </tr>\n",
       "    <tr>\n",
       "      <th>173</th>\n",
       "      <td>0.05</td>\n",
       "      <td>45.0</td>\n",
       "      <td>25.0</td>\n",
       "      <td>100.0</td>\n",
       "      <td>20.0</td>\n",
       "      <td>0.000981</td>\n",
       "      <td>0.000000</td>\n",
       "      <td>1.635172e+09</td>\n",
       "      <td>0.0</td>\n",
       "    </tr>\n",
       "    <tr>\n",
       "      <th>180</th>\n",
       "      <td>0.05</td>\n",
       "      <td>45.0</td>\n",
       "      <td>45.0</td>\n",
       "      <td>20.0</td>\n",
       "      <td>10.0</td>\n",
       "      <td>0.004864</td>\n",
       "      <td>0.000000</td>\n",
       "      <td>1.635172e+09</td>\n",
       "      <td>0.0</td>\n",
       "    </tr>\n",
       "    <tr>\n",
       "      <th>181</th>\n",
       "      <td>0.05</td>\n",
       "      <td>45.0</td>\n",
       "      <td>45.0</td>\n",
       "      <td>20.0</td>\n",
       "      <td>20.0</td>\n",
       "      <td>0.042556</td>\n",
       "      <td>0.012981</td>\n",
       "      <td>1.635172e+09</td>\n",
       "      <td>0.0</td>\n",
       "    </tr>\n",
       "    <tr>\n",
       "      <th>184</th>\n",
       "      <td>0.05</td>\n",
       "      <td>45.0</td>\n",
       "      <td>45.0</td>\n",
       "      <td>50.0</td>\n",
       "      <td>10.0</td>\n",
       "      <td>0.000877</td>\n",
       "      <td>0.000000</td>\n",
       "      <td>1.635172e+09</td>\n",
       "      <td>0.0</td>\n",
       "    </tr>\n",
       "    <tr>\n",
       "      <th>188</th>\n",
       "      <td>0.05</td>\n",
       "      <td>45.0</td>\n",
       "      <td>45.0</td>\n",
       "      <td>100.0</td>\n",
       "      <td>10.0</td>\n",
       "      <td>0.000283</td>\n",
       "      <td>0.000000</td>\n",
       "      <td>1.635172e+09</td>\n",
       "      <td>0.0</td>\n",
       "    </tr>\n",
       "    <tr>\n",
       "      <th>189</th>\n",
       "      <td>0.05</td>\n",
       "      <td>45.0</td>\n",
       "      <td>45.0</td>\n",
       "      <td>100.0</td>\n",
       "      <td>20.0</td>\n",
       "      <td>0.000786</td>\n",
       "      <td>0.000000</td>\n",
       "      <td>1.635172e+09</td>\n",
       "      <td>0.0</td>\n",
       "    </tr>\n",
       "    <tr>\n",
       "      <th>200</th>\n",
       "      <td>0.10</td>\n",
       "      <td>5.0</td>\n",
       "      <td>5.0</td>\n",
       "      <td>50.0</td>\n",
       "      <td>10.0</td>\n",
       "      <td>0.003176</td>\n",
       "      <td>0.000000</td>\n",
       "      <td>1.635172e+09</td>\n",
       "      <td>0.0</td>\n",
       "    </tr>\n",
       "    <tr>\n",
       "      <th>204</th>\n",
       "      <td>0.10</td>\n",
       "      <td>5.0</td>\n",
       "      <td>5.0</td>\n",
       "      <td>100.0</td>\n",
       "      <td>10.0</td>\n",
       "      <td>0.000148</td>\n",
       "      <td>0.000000</td>\n",
       "      <td>1.635172e+09</td>\n",
       "      <td>0.0</td>\n",
       "    </tr>\n",
       "    <tr>\n",
       "      <th>205</th>\n",
       "      <td>0.10</td>\n",
       "      <td>5.0</td>\n",
       "      <td>5.0</td>\n",
       "      <td>100.0</td>\n",
       "      <td>20.0</td>\n",
       "      <td>0.000312</td>\n",
       "      <td>0.000000</td>\n",
       "      <td>1.635172e+09</td>\n",
       "      <td>0.0</td>\n",
       "    </tr>\n",
       "    <tr>\n",
       "      <th>208</th>\n",
       "      <td>0.10</td>\n",
       "      <td>25.0</td>\n",
       "      <td>5.0</td>\n",
       "      <td>10.0</td>\n",
       "      <td>10.0</td>\n",
       "      <td>0.034531</td>\n",
       "      <td>0.007246</td>\n",
       "      <td>1.635172e+09</td>\n",
       "      <td>0.0</td>\n",
       "    </tr>\n",
       "    <tr>\n",
       "      <th>213</th>\n",
       "      <td>0.10</td>\n",
       "      <td>25.0</td>\n",
       "      <td>5.0</td>\n",
       "      <td>20.0</td>\n",
       "      <td>20.0</td>\n",
       "      <td>0.005166</td>\n",
       "      <td>0.000000</td>\n",
       "      <td>1.635172e+09</td>\n",
       "      <td>0.0</td>\n",
       "    </tr>\n",
       "    <tr>\n",
       "      <th>216</th>\n",
       "      <td>0.10</td>\n",
       "      <td>25.0</td>\n",
       "      <td>5.0</td>\n",
       "      <td>50.0</td>\n",
       "      <td>10.0</td>\n",
       "      <td>0.000279</td>\n",
       "      <td>0.000000</td>\n",
       "      <td>1.635172e+09</td>\n",
       "      <td>0.0</td>\n",
       "    </tr>\n",
       "    <tr>\n",
       "      <th>217</th>\n",
       "      <td>0.10</td>\n",
       "      <td>25.0</td>\n",
       "      <td>5.0</td>\n",
       "      <td>50.0</td>\n",
       "      <td>20.0</td>\n",
       "      <td>0.000837</td>\n",
       "      <td>0.000000</td>\n",
       "      <td>1.635172e+09</td>\n",
       "      <td>0.0</td>\n",
       "    </tr>\n",
       "    <tr>\n",
       "      <th>220</th>\n",
       "      <td>0.10</td>\n",
       "      <td>25.0</td>\n",
       "      <td>5.0</td>\n",
       "      <td>100.0</td>\n",
       "      <td>10.0</td>\n",
       "      <td>0.000096</td>\n",
       "      <td>0.000000</td>\n",
       "      <td>1.635172e+09</td>\n",
       "      <td>0.0</td>\n",
       "    </tr>\n",
       "    <tr>\n",
       "      <th>228</th>\n",
       "      <td>0.10</td>\n",
       "      <td>25.0</td>\n",
       "      <td>25.0</td>\n",
       "      <td>20.0</td>\n",
       "      <td>10.0</td>\n",
       "      <td>0.001068</td>\n",
       "      <td>0.000000</td>\n",
       "      <td>1.635172e+09</td>\n",
       "      <td>0.0</td>\n",
       "    </tr>\n",
       "    <tr>\n",
       "      <th>229</th>\n",
       "      <td>0.10</td>\n",
       "      <td>25.0</td>\n",
       "      <td>25.0</td>\n",
       "      <td>20.0</td>\n",
       "      <td>20.0</td>\n",
       "      <td>0.022127</td>\n",
       "      <td>0.003365</td>\n",
       "      <td>1.635172e+09</td>\n",
       "      <td>0.0</td>\n",
       "    </tr>\n",
       "    <tr>\n",
       "      <th>232</th>\n",
       "      <td>0.10</td>\n",
       "      <td>25.0</td>\n",
       "      <td>25.0</td>\n",
       "      <td>50.0</td>\n",
       "      <td>10.0</td>\n",
       "      <td>0.000290</td>\n",
       "      <td>0.000000</td>\n",
       "      <td>1.635172e+09</td>\n",
       "      <td>0.0</td>\n",
       "    </tr>\n",
       "    <tr>\n",
       "      <th>233</th>\n",
       "      <td>0.10</td>\n",
       "      <td>25.0</td>\n",
       "      <td>25.0</td>\n",
       "      <td>50.0</td>\n",
       "      <td>20.0</td>\n",
       "      <td>0.000781</td>\n",
       "      <td>0.000000</td>\n",
       "      <td>1.635172e+09</td>\n",
       "      <td>0.0</td>\n",
       "    </tr>\n",
       "    <tr>\n",
       "      <th>236</th>\n",
       "      <td>0.10</td>\n",
       "      <td>25.0</td>\n",
       "      <td>25.0</td>\n",
       "      <td>100.0</td>\n",
       "      <td>10.0</td>\n",
       "      <td>0.000092</td>\n",
       "      <td>0.000000</td>\n",
       "      <td>1.635172e+09</td>\n",
       "      <td>0.0</td>\n",
       "    </tr>\n",
       "    <tr>\n",
       "      <th>237</th>\n",
       "      <td>0.10</td>\n",
       "      <td>25.0</td>\n",
       "      <td>25.0</td>\n",
       "      <td>100.0</td>\n",
       "      <td>20.0</td>\n",
       "      <td>0.000278</td>\n",
       "      <td>0.000000</td>\n",
       "      <td>1.635172e+09</td>\n",
       "      <td>0.0</td>\n",
       "    </tr>\n",
       "    <tr>\n",
       "      <th>240</th>\n",
       "      <td>0.10</td>\n",
       "      <td>45.0</td>\n",
       "      <td>5.0</td>\n",
       "      <td>10.0</td>\n",
       "      <td>10.0</td>\n",
       "      <td>0.013850</td>\n",
       "      <td>0.000966</td>\n",
       "      <td>1.635172e+09</td>\n",
       "      <td>0.0</td>\n",
       "    </tr>\n",
       "    <tr>\n",
       "      <th>248</th>\n",
       "      <td>0.10</td>\n",
       "      <td>45.0</td>\n",
       "      <td>5.0</td>\n",
       "      <td>50.0</td>\n",
       "      <td>10.0</td>\n",
       "      <td>0.000241</td>\n",
       "      <td>0.000000</td>\n",
       "      <td>1.635172e+09</td>\n",
       "      <td>0.0</td>\n",
       "    </tr>\n",
       "    <tr>\n",
       "      <th>249</th>\n",
       "      <td>0.10</td>\n",
       "      <td>45.0</td>\n",
       "      <td>5.0</td>\n",
       "      <td>50.0</td>\n",
       "      <td>20.0</td>\n",
       "      <td>0.000881</td>\n",
       "      <td>0.000000</td>\n",
       "      <td>1.635172e+09</td>\n",
       "      <td>0.0</td>\n",
       "    </tr>\n",
       "    <tr>\n",
       "      <th>252</th>\n",
       "      <td>0.10</td>\n",
       "      <td>45.0</td>\n",
       "      <td>5.0</td>\n",
       "      <td>100.0</td>\n",
       "      <td>10.0</td>\n",
       "      <td>0.053176</td>\n",
       "      <td>0.016425</td>\n",
       "      <td>1.635172e+09</td>\n",
       "      <td>0.0</td>\n",
       "    </tr>\n",
       "    <tr>\n",
       "      <th>253</th>\n",
       "      <td>0.10</td>\n",
       "      <td>45.0</td>\n",
       "      <td>5.0</td>\n",
       "      <td>100.0</td>\n",
       "      <td>20.0</td>\n",
       "      <td>0.000227</td>\n",
       "      <td>0.000000</td>\n",
       "      <td>1.635172e+09</td>\n",
       "      <td>0.0</td>\n",
       "    </tr>\n",
       "    <tr>\n",
       "      <th>260</th>\n",
       "      <td>0.10</td>\n",
       "      <td>45.0</td>\n",
       "      <td>25.0</td>\n",
       "      <td>20.0</td>\n",
       "      <td>10.0</td>\n",
       "      <td>0.000932</td>\n",
       "      <td>0.000000</td>\n",
       "      <td>1.635172e+09</td>\n",
       "      <td>0.0</td>\n",
       "    </tr>\n",
       "    <tr>\n",
       "      <th>261</th>\n",
       "      <td>0.10</td>\n",
       "      <td>45.0</td>\n",
       "      <td>25.0</td>\n",
       "      <td>20.0</td>\n",
       "      <td>20.0</td>\n",
       "      <td>0.003773</td>\n",
       "      <td>0.000000</td>\n",
       "      <td>1.635172e+09</td>\n",
       "      <td>0.0</td>\n",
       "    </tr>\n",
       "    <tr>\n",
       "      <th>264</th>\n",
       "      <td>0.10</td>\n",
       "      <td>45.0</td>\n",
       "      <td>25.0</td>\n",
       "      <td>50.0</td>\n",
       "      <td>10.0</td>\n",
       "      <td>0.000252</td>\n",
       "      <td>0.000000</td>\n",
       "      <td>1.635172e+09</td>\n",
       "      <td>0.0</td>\n",
       "    </tr>\n",
       "    <tr>\n",
       "      <th>265</th>\n",
       "      <td>0.10</td>\n",
       "      <td>45.0</td>\n",
       "      <td>25.0</td>\n",
       "      <td>50.0</td>\n",
       "      <td>20.0</td>\n",
       "      <td>0.000630</td>\n",
       "      <td>0.000000</td>\n",
       "      <td>1.635172e+09</td>\n",
       "      <td>0.0</td>\n",
       "    </tr>\n",
       "    <tr>\n",
       "      <th>268</th>\n",
       "      <td>0.10</td>\n",
       "      <td>45.0</td>\n",
       "      <td>25.0</td>\n",
       "      <td>100.0</td>\n",
       "      <td>10.0</td>\n",
       "      <td>0.000086</td>\n",
       "      <td>0.000000</td>\n",
       "      <td>1.635172e+09</td>\n",
       "      <td>0.0</td>\n",
       "    </tr>\n",
       "    <tr>\n",
       "      <th>269</th>\n",
       "      <td>0.10</td>\n",
       "      <td>45.0</td>\n",
       "      <td>25.0</td>\n",
       "      <td>100.0</td>\n",
       "      <td>20.0</td>\n",
       "      <td>0.000261</td>\n",
       "      <td>0.000000</td>\n",
       "      <td>1.635172e+09</td>\n",
       "      <td>0.0</td>\n",
       "    </tr>\n",
       "    <tr>\n",
       "      <th>272</th>\n",
       "      <td>0.10</td>\n",
       "      <td>45.0</td>\n",
       "      <td>45.0</td>\n",
       "      <td>10.0</td>\n",
       "      <td>10.0</td>\n",
       "      <td>0.008660</td>\n",
       "      <td>0.000483</td>\n",
       "      <td>1.635172e+09</td>\n",
       "      <td>0.0</td>\n",
       "    </tr>\n",
       "    <tr>\n",
       "      <th>276</th>\n",
       "      <td>0.10</td>\n",
       "      <td>45.0</td>\n",
       "      <td>45.0</td>\n",
       "      <td>20.0</td>\n",
       "      <td>10.0</td>\n",
       "      <td>0.001001</td>\n",
       "      <td>0.000000</td>\n",
       "      <td>1.635172e+09</td>\n",
       "      <td>0.0</td>\n",
       "    </tr>\n",
       "    <tr>\n",
       "      <th>277</th>\n",
       "      <td>0.10</td>\n",
       "      <td>45.0</td>\n",
       "      <td>45.0</td>\n",
       "      <td>20.0</td>\n",
       "      <td>20.0</td>\n",
       "      <td>0.010496</td>\n",
       "      <td>0.000000</td>\n",
       "      <td>1.635172e+09</td>\n",
       "      <td>0.0</td>\n",
       "    </tr>\n",
       "    <tr>\n",
       "      <th>280</th>\n",
       "      <td>0.10</td>\n",
       "      <td>45.0</td>\n",
       "      <td>45.0</td>\n",
       "      <td>50.0</td>\n",
       "      <td>10.0</td>\n",
       "      <td>0.000219</td>\n",
       "      <td>0.000000</td>\n",
       "      <td>1.635172e+09</td>\n",
       "      <td>0.0</td>\n",
       "    </tr>\n",
       "    <tr>\n",
       "      <th>281</th>\n",
       "      <td>0.10</td>\n",
       "      <td>45.0</td>\n",
       "      <td>45.0</td>\n",
       "      <td>50.0</td>\n",
       "      <td>20.0</td>\n",
       "      <td>0.000643</td>\n",
       "      <td>0.000000</td>\n",
       "      <td>1.635172e+09</td>\n",
       "      <td>0.0</td>\n",
       "    </tr>\n",
       "    <tr>\n",
       "      <th>284</th>\n",
       "      <td>0.10</td>\n",
       "      <td>45.0</td>\n",
       "      <td>45.0</td>\n",
       "      <td>100.0</td>\n",
       "      <td>10.0</td>\n",
       "      <td>0.000095</td>\n",
       "      <td>0.000000</td>\n",
       "      <td>1.635172e+09</td>\n",
       "      <td>0.0</td>\n",
       "    </tr>\n",
       "    <tr>\n",
       "      <th>285</th>\n",
       "      <td>0.10</td>\n",
       "      <td>45.0</td>\n",
       "      <td>45.0</td>\n",
       "      <td>100.0</td>\n",
       "      <td>20.0</td>\n",
       "      <td>0.000224</td>\n",
       "      <td>0.000000</td>\n",
       "      <td>1.635172e+09</td>\n",
       "      <td>0.0</td>\n",
       "    </tr>\n",
       "  </tbody>\n",
       "</table>\n",
       "</div>"
      ],
      "text/plain": [
       "       lr  nodes_hidden_1  ...    train_time  test_error\n",
       "12   0.01             5.0  ...  1.635172e+09         0.0\n",
       "28   0.01            25.0  ...  1.635172e+09         0.0\n",
       "44   0.01            25.0  ...  1.635172e+09         0.0\n",
       "60   0.01            45.0  ...  1.635172e+09         0.0\n",
       "72   0.01            45.0  ...  1.635172e+09         0.0\n",
       "76   0.01            45.0  ...  1.635172e+09         0.0\n",
       "77   0.01            45.0  ...  1.635172e+09         0.0\n",
       "92   0.01            45.0  ...  1.635172e+09         0.0\n",
       "93   0.01            45.0  ...  1.635172e+09         0.0\n",
       "100  0.05             5.0  ...  1.635172e+09         0.0\n",
       "104  0.05             5.0  ...  1.635172e+09         0.0\n",
       "108  0.05             5.0  ...  1.635172e+09         0.0\n",
       "109  0.05             5.0  ...  1.635172e+09         0.0\n",
       "116  0.05            25.0  ...  1.635172e+09         0.0\n",
       "124  0.05            25.0  ...  1.635172e+09         0.0\n",
       "125  0.05            25.0  ...  1.635172e+09         0.0\n",
       "132  0.05            25.0  ...  1.635172e+09         0.0\n",
       "136  0.05            25.0  ...  1.635172e+09         0.0\n",
       "140  0.05            25.0  ...  1.635172e+09         0.0\n",
       "141  0.05            25.0  ...  1.635172e+09         0.0\n",
       "148  0.05            45.0  ...  1.635172e+09         0.0\n",
       "152  0.05            45.0  ...  1.635172e+09         0.0\n",
       "153  0.05            45.0  ...  1.635172e+09         0.0\n",
       "157  0.05            45.0  ...  1.635172e+09         0.0\n",
       "164  0.05            45.0  ...  1.635172e+09         0.0\n",
       "168  0.05            45.0  ...  1.635172e+09         0.0\n",
       "169  0.05            45.0  ...  1.635172e+09         0.0\n",
       "172  0.05            45.0  ...  1.635172e+09         0.0\n",
       "173  0.05            45.0  ...  1.635172e+09         0.0\n",
       "180  0.05            45.0  ...  1.635172e+09         0.0\n",
       "181  0.05            45.0  ...  1.635172e+09         0.0\n",
       "184  0.05            45.0  ...  1.635172e+09         0.0\n",
       "188  0.05            45.0  ...  1.635172e+09         0.0\n",
       "189  0.05            45.0  ...  1.635172e+09         0.0\n",
       "200  0.10             5.0  ...  1.635172e+09         0.0\n",
       "204  0.10             5.0  ...  1.635172e+09         0.0\n",
       "205  0.10             5.0  ...  1.635172e+09         0.0\n",
       "208  0.10            25.0  ...  1.635172e+09         0.0\n",
       "213  0.10            25.0  ...  1.635172e+09         0.0\n",
       "216  0.10            25.0  ...  1.635172e+09         0.0\n",
       "217  0.10            25.0  ...  1.635172e+09         0.0\n",
       "220  0.10            25.0  ...  1.635172e+09         0.0\n",
       "228  0.10            25.0  ...  1.635172e+09         0.0\n",
       "229  0.10            25.0  ...  1.635172e+09         0.0\n",
       "232  0.10            25.0  ...  1.635172e+09         0.0\n",
       "233  0.10            25.0  ...  1.635172e+09         0.0\n",
       "236  0.10            25.0  ...  1.635172e+09         0.0\n",
       "237  0.10            25.0  ...  1.635172e+09         0.0\n",
       "240  0.10            45.0  ...  1.635172e+09         0.0\n",
       "248  0.10            45.0  ...  1.635172e+09         0.0\n",
       "249  0.10            45.0  ...  1.635172e+09         0.0\n",
       "252  0.10            45.0  ...  1.635172e+09         0.0\n",
       "253  0.10            45.0  ...  1.635172e+09         0.0\n",
       "260  0.10            45.0  ...  1.635172e+09         0.0\n",
       "261  0.10            45.0  ...  1.635172e+09         0.0\n",
       "264  0.10            45.0  ...  1.635172e+09         0.0\n",
       "265  0.10            45.0  ...  1.635172e+09         0.0\n",
       "268  0.10            45.0  ...  1.635172e+09         0.0\n",
       "269  0.10            45.0  ...  1.635172e+09         0.0\n",
       "272  0.10            45.0  ...  1.635172e+09         0.0\n",
       "276  0.10            45.0  ...  1.635172e+09         0.0\n",
       "277  0.10            45.0  ...  1.635172e+09         0.0\n",
       "280  0.10            45.0  ...  1.635172e+09         0.0\n",
       "281  0.10            45.0  ...  1.635172e+09         0.0\n",
       "284  0.10            45.0  ...  1.635172e+09         0.0\n",
       "285  0.10            45.0  ...  1.635172e+09         0.0\n",
       "\n",
       "[66 rows x 9 columns]"
      ]
     },
     "execution_count": 356,
     "metadata": {},
     "output_type": "execute_result"
    }
   ],
   "source": [
    "# Locate the optimal combinations of hyperparameters \n",
    "min_test_error = results_q1[\"test_error\"].min()\n",
    "optimal_hyperparameters = results_q1[results_q1[\"test_error\"]==min_test_error]\n",
    "pd.set_option(\"display.max_rows\",100)\n",
    "optimal_hyperparameters "
   ]
  },
  {
   "cell_type": "markdown",
   "metadata": {
    "id": "i_xR0pxk54bd"
   },
   "source": [
    "##### **Final Solution**"
   ]
  },
  {
   "cell_type": "markdown",
   "metadata": {
    "id": "bp3mAAjQ6G6a"
   },
   "source": [
    "From the above, we can observe that there are multiple sets of hyperparameters that can achive the minimal test errors. Hence, to solve questions 1, we could use any one sets of hyperparameters from the above \"optimal_hyperparameters\" dataframe. \n",
    "<br>\n",
    "However, as we know that:<br>\n",
    "1. Model accuracy increases when learning rate decreases \n",
    "2. Model accuracy increases as the number of hidden nodes increases \n",
    "3. Model accuracy increases as the number of epochs increases \n",
    "4. Model accuracy increases as the number of batch size decreases \n",
    "<br><br>\n",
    "We can then pick the set of hyperparameters from the \"optimal_hyperparameters\" dataframe that has: lowest learning rate, lowest batch size, highest number of hidden nodes, and highest number of epochs. \n",
    "<br>\n",
    "With that, the optimal hyperparameter used for the model will be on index 92. where:\n",
    "\n",
    "- learning rate: 0.01 \n",
    "- no. of hidden nodes on layer 1: 45\n",
    "- no. of hidden nodes on layer 2: 45\n",
    "- no. of epochs: 100\n",
    "- batch size: 10\n"
   ]
  },
  {
   "cell_type": "markdown",
   "metadata": {
    "id": "upK4372pv9vP"
   },
   "source": [
    "## 2. Effects of Hidden layers & Hidden nodes"
   ]
  },
  {
   "cell_type": "markdown",
   "metadata": {
    "id": "g2HdAGn0cuQZ"
   },
   "source": [
    "### 2.1 Effects of hidden layers"
   ]
  },
  {
   "cell_type": "code",
   "execution_count": null,
   "metadata": {
    "id": "rK1k7UYDTfZj"
   },
   "outputs": [],
   "source": [
    "# hyperparameters that are not evaluated in this questions are kept constant \n",
    "no_of_epochs = 20\n",
    "lr = 0.08\n",
    "bs = 20"
   ]
  },
  {
   "cell_type": "markdown",
   "metadata": {
    "id": "HJu_UsiY8nak"
   },
   "source": [
    "##### **Defining models**"
   ]
  },
  {
   "cell_type": "code",
   "execution_count": null,
   "metadata": {
    "id": "N6gyn3oKctbz"
   },
   "outputs": [],
   "source": [
    "# Define a shallow network with 2 layers \n",
    "\n",
    "class shallow_net(nn.Module):\n",
    "\n",
    "    def __init__(self, input_size, hidden_size, output_size):\n",
    "        super(shallow_net, self).__init__()\n",
    "        \n",
    "        self.layer1 = nn.Linear(  input_size   , hidden_size  , bias=False  )\n",
    "        self.layer2 = nn.Linear(  hidden_size , hidden_size  , bias=False  )\n",
    "\n",
    "        \n",
    "    def forward(self, x):\n",
    "        \n",
    "        y = self.layer1(x)\n",
    "        y_hat = F.relu(y)\n",
    "\n",
    "        scores = self.layer2(y_hat)\n",
    "        return scores"
   ]
  },
  {
   "cell_type": "code",
   "execution_count": null,
   "metadata": {
    "id": "YVxV5bQ4RS1a"
   },
   "outputs": [],
   "source": [
    "# Define a deep network with 4 layers \n",
    "class deep_net(nn.Module):\n",
    "\n",
    "    def __init__(self, input_size, hidden_size,  output_size):\n",
    "        super(deep_net, self).__init__()\n",
    "        \n",
    "        self.layer1 = nn.Linear(  input_size   , hidden_size  , bias=False  )\n",
    "        self.layer2 = nn.Linear(  hidden_size , hidden_size  , bias=False  )\n",
    "        self.layer3 = nn.Linear(  hidden_size , hidden_size   , bias=False  )\n",
    "        self.layer4 = nn.Linear(  hidden_size , output_size   , bias=False  )\n",
    "\n",
    "        \n",
    "    def forward(self, x):\n",
    "        \n",
    "        y = self.layer1(x)\n",
    "        y_hat = F.relu(y)\n",
    "\n",
    "        z = self.layer2(y_hat)\n",
    "        z_hat = F.relu(z)\n",
    "\n",
    "        j = self.layer3(z_hat)\n",
    "        j_hat=F.relu(j)\n",
    "\n",
    "        scores = self.layer4(j_hat)\n",
    "        \n",
    "        return scores"
   ]
  },
  {
   "cell_type": "markdown",
   "metadata": {
    "id": "keObbqcN835r"
   },
   "source": [
    "##### **Implementing the models with different number of layers**"
   ]
  },
  {
   "cell_type": "code",
   "execution_count": null,
   "metadata": {
    "colab": {
     "base_uri": "https://localhost:8080/"
    },
    "id": "7KqF-xY3R3AW",
    "outputId": "bcf77a86-8132-47ef-8c24-7ce265d02be3"
   },
   "outputs": [
    {
     "name": "stdout",
     "output_type": "stream",
     "text": [
      "epoch= 0 \t time= 0.05571603775024414 \t loss= 1.2700049854241884 \t error= 64.03846150407423 percent\n",
      " \n",
      "epoch= 10 \t time= 0.561607837677002 \t loss= 1.0524956526664586 \t error= 64.80769222745528 percent\n",
      " \n",
      "error rate on test set = 65.81481470002069 percent\n",
      "shallow_net model performance: \n",
      "\n",
      "learning rate:  0.08\n",
      "number of epochs: 20\n",
      "training loss:  0.9689667534369689\n",
      "training error:  0.6495192291644903\n",
      "training time:  1635165220.7560189\n",
      "\n",
      "testing error:  0.6581481470002069\n"
     ]
    }
   ],
   "source": [
    "# Run the model on shallow net \n",
    "shallow = shallow_net(48, 5, 3)\n",
    "\n",
    "train_loss, train_error, train_time = training_nn(no_of_epochs, bs, lr,shallow )\n",
    "test_error = testing_nn(bs, shallow)\n",
    "\n",
    "print(\"shallow_net model performance: \\n\")\n",
    "\n",
    "print(\"learning rate: \", lr)\n",
    "print(\"number of epochs:\", no_of_epochs)\n",
    "print(\"training loss: \", train_loss)\n",
    "print(\"training error: \", train_error)\n",
    "print(\"training time: \", train_time)\n",
    "print(\"\\ntesting error: \", test_error)"
   ]
  },
  {
   "cell_type": "code",
   "execution_count": null,
   "metadata": {
    "colab": {
     "base_uri": "https://localhost:8080/"
    },
    "id": "2FzOJ9lUR2x0",
    "outputId": "b4edaa94-5057-40b5-c369-4c9ea300f295"
   },
   "outputs": [
    {
     "name": "stdout",
     "output_type": "stream",
     "text": [
      "epoch= 0 \t time= 0.06526470184326172 \t loss= 1.0832952100497026 \t error= 58.31730738282204 percent\n",
      " \n",
      "epoch= 10 \t time= 0.6820058822631836 \t loss= 0.14603871261127865 \t error= 4.182692961050914 percent\n",
      " \n",
      "error rate on test set = 3.7777784135606556 percent\n",
      "3-layer model performance: \n",
      "\n",
      "learning rate:  0.08\n",
      "number of epochs: 20\n",
      "training loss:  0.13102685953848636\n",
      "training error:  0.041346160838237174\n",
      "training time:  1635164049.377642\n",
      "\n",
      "testing error:  0.037777784135606556\n"
     ]
    }
   ],
   "source": [
    "# Run the model on 3-layer model\n",
    "net = three_layer_net(48, 5,5, 3)\n",
    "\n",
    "train_loss, train_error, train_time = training_nn(no_of_epochs, bs, lr, net)\n",
    "test_error = testing_nn(bs, net)\n",
    "\n",
    "print(\"3-layer model performance: \\n\")\n",
    "\n",
    "print(\"learning rate: \", lr)\n",
    "print(\"number of epochs:\", no_of_epochs)\n",
    "print(\"training loss: \", train_loss)\n",
    "print(\"training error: \", train_error)\n",
    "print(\"training time: \", train_time)\n",
    "\n",
    "print(\"\\ntesting error: \", test_error)"
   ]
  },
  {
   "cell_type": "code",
   "execution_count": null,
   "metadata": {
    "colab": {
     "base_uri": "https://localhost:8080/"
    },
    "id": "FVJ_BdmaVI2D",
    "outputId": "3fced286-c6bf-4ecc-b353-ba08a5bdc15e"
   },
   "outputs": [
    {
     "name": "stdout",
     "output_type": "stream",
     "text": [
      "epoch= 0 \t time= 0.06553149223327637 \t loss= 1.0977511933216682 \t error= 58.509615350228096 percent\n",
      " \n",
      "epoch= 10 \t time= 0.6953864097595215 \t loss= 0.07986447911333436 \t error= 2.836539023197614 percent\n",
      " \n",
      "error rate on test set = 0.22222227520412868 percent\n",
      "deep_net model performance: \n",
      "\n",
      "learning rate:  0.08\n",
      "number of epochs: 20\n",
      "training loss:  0.007677724603966523\n",
      "training error:  0.00048076934539354767\n",
      "training time:  1635163989.7208872\n",
      "\n",
      "testing error:  0.0022222227520412867\n"
     ]
    }
   ],
   "source": [
    "# Run the model on deep net (4 layers)\n",
    "deep = deep_net(48, 5, 3)\n",
    "\n",
    "train_loss, train_error, train_time = training_nn(no_of_epochs, bs, lr, deep)\n",
    "test_error = testing_nn(bs, deep)\n",
    "\n",
    "print(\"4-layer model performance: \\n\")\n",
    "\n",
    "print(\"learning rate: \", lr)\n",
    "print(\"number of epochs:\", no_of_epochs)\n",
    "print(\"training loss: \", train_loss)\n",
    "print(\"training error: \", train_error)\n",
    "print(\"training time: \", train_time)\n",
    "\n",
    "print(\"\\ntesting error: \", test_error)"
   ]
  },
  {
   "cell_type": "markdown",
   "metadata": {
    "id": "atJ5FzFEc2sW"
   },
   "source": [
    "### 2.2 Effects of hidden nodes"
   ]
  },
  {
   "cell_type": "markdown",
   "metadata": {
    "id": "a63QP7Nl9HCf"
   },
   "source": [
    "##### **Implementing a mode lwith different number of hidden nodes**"
   ]
  },
  {
   "cell_type": "code",
   "execution_count": null,
   "metadata": {
    "colab": {
     "base_uri": "https://localhost:8080/"
    },
    "id": "BbttZD5hbPiN",
    "outputId": "3de6646a-e109-4033-988c-b7bac563ac2d"
   },
   "outputs": [],
   "source": [
    "# Run a model with different nuber of hidden nodes\n",
    "results_q2 = pd.DataFrame(columns = [\"lr\",\"no of hidden nodes\", \"no_of_epochs\",\"bs\",\"train_loss\", \"train_error\", \"train_time\", \"test_error\"])\n",
    "\n",
    "hidden_nodes_loop = [5,10, 20, 30,40, 45 ]\n",
    "\n",
    "for hidden_nodes in hidden_nodes_loop:\n",
    "  shallow = shallow_net(48, hidden_nodes, 3)\n",
    "\n",
    "  train_loss, train_error, train_time = training_nn(no_of_epochs, bs, lr,shallow )\n",
    "  test_error = testing_nn(bs, shallow)  \n",
    "\n",
    "  result = [lr,hidden_nodes,no_of_epochs,bs,train_loss,train_error,train_time,test_error]\n",
    "  print(result)\n",
    "\n",
    "  result = pd.Series(result, index = results_q2.columns)\n",
    "  results_q2 = results_q2.append(result, ignore_index=True)\n"
   ]
  },
  {
   "cell_type": "markdown",
   "metadata": {
    "id": "mFAwiIZc9P2M"
   },
   "source": [
    "##### **Visualize the model performance/results**"
   ]
  },
  {
   "cell_type": "code",
   "execution_count": null,
   "metadata": {
    "colab": {
     "base_uri": "https://localhost:8080/",
     "height": 230
    },
    "id": "MMFief3JdARS",
    "outputId": "0909ca92-aefa-43f6-d23a-8c4a1dc29a50"
   },
   "outputs": [
    {
     "data": {
      "text/html": [
       "<div>\n",
       "<style scoped>\n",
       "    .dataframe tbody tr th:only-of-type {\n",
       "        vertical-align: middle;\n",
       "    }\n",
       "\n",
       "    .dataframe tbody tr th {\n",
       "        vertical-align: top;\n",
       "    }\n",
       "\n",
       "    .dataframe thead th {\n",
       "        text-align: right;\n",
       "    }\n",
       "</style>\n",
       "<table border=\"1\" class=\"dataframe\">\n",
       "  <thead>\n",
       "    <tr style=\"text-align: right;\">\n",
       "      <th></th>\n",
       "      <th>lr</th>\n",
       "      <th>no of hidden nodes</th>\n",
       "      <th>no_of_epochs</th>\n",
       "      <th>bs</th>\n",
       "      <th>train_loss</th>\n",
       "      <th>train_error</th>\n",
       "      <th>train_time</th>\n",
       "      <th>test_error</th>\n",
       "    </tr>\n",
       "  </thead>\n",
       "  <tbody>\n",
       "    <tr>\n",
       "      <th>0</th>\n",
       "      <td>0.08</td>\n",
       "      <td>5.0</td>\n",
       "      <td>20.0</td>\n",
       "      <td>20.0</td>\n",
       "      <td>0.065127</td>\n",
       "      <td>0.017308</td>\n",
       "      <td>1.635167e+09</td>\n",
       "      <td>0.078889</td>\n",
       "    </tr>\n",
       "    <tr>\n",
       "      <th>1</th>\n",
       "      <td>0.08</td>\n",
       "      <td>10.0</td>\n",
       "      <td>20.0</td>\n",
       "      <td>20.0</td>\n",
       "      <td>0.047278</td>\n",
       "      <td>0.005769</td>\n",
       "      <td>1.635167e+09</td>\n",
       "      <td>0.006667</td>\n",
       "    </tr>\n",
       "    <tr>\n",
       "      <th>2</th>\n",
       "      <td>0.08</td>\n",
       "      <td>20.0</td>\n",
       "      <td>20.0</td>\n",
       "      <td>20.0</td>\n",
       "      <td>0.046698</td>\n",
       "      <td>0.006731</td>\n",
       "      <td>1.635167e+09</td>\n",
       "      <td>0.001111</td>\n",
       "    </tr>\n",
       "    <tr>\n",
       "      <th>3</th>\n",
       "      <td>0.08</td>\n",
       "      <td>30.0</td>\n",
       "      <td>20.0</td>\n",
       "      <td>20.0</td>\n",
       "      <td>0.041909</td>\n",
       "      <td>0.004327</td>\n",
       "      <td>1.635167e+09</td>\n",
       "      <td>0.003333</td>\n",
       "    </tr>\n",
       "    <tr>\n",
       "      <th>4</th>\n",
       "      <td>0.08</td>\n",
       "      <td>40.0</td>\n",
       "      <td>20.0</td>\n",
       "      <td>20.0</td>\n",
       "      <td>0.052978</td>\n",
       "      <td>0.008654</td>\n",
       "      <td>1.635167e+09</td>\n",
       "      <td>0.002222</td>\n",
       "    </tr>\n",
       "    <tr>\n",
       "      <th>5</th>\n",
       "      <td>0.08</td>\n",
       "      <td>45.0</td>\n",
       "      <td>20.0</td>\n",
       "      <td>20.0</td>\n",
       "      <td>0.055441</td>\n",
       "      <td>0.011538</td>\n",
       "      <td>1.635167e+09</td>\n",
       "      <td>0.005556</td>\n",
       "    </tr>\n",
       "  </tbody>\n",
       "</table>\n",
       "</div>"
      ],
      "text/plain": [
       "     lr  no of hidden nodes  ...    train_time  test_error\n",
       "0  0.08                 5.0  ...  1.635167e+09    0.078889\n",
       "1  0.08                10.0  ...  1.635167e+09    0.006667\n",
       "2  0.08                20.0  ...  1.635167e+09    0.001111\n",
       "3  0.08                30.0  ...  1.635167e+09    0.003333\n",
       "4  0.08                40.0  ...  1.635167e+09    0.002222\n",
       "5  0.08                45.0  ...  1.635167e+09    0.005556\n",
       "\n",
       "[6 rows x 8 columns]"
      ]
     },
     "execution_count": 34,
     "metadata": {},
     "output_type": "execute_result"
    }
   ],
   "source": [
    "results_q2"
   ]
  },
  {
   "cell_type": "code",
   "execution_count": null,
   "metadata": {
    "colab": {
     "base_uri": "https://localhost:8080/",
     "height": 403
    },
    "id": "i59mmGjRdi0C",
    "outputId": "d533802f-c055-4033-8d65-f3171589080e"
   },
   "outputs": [
    {
     "data": {
      "text/plain": [
       "<matplotlib.axes._subplots.AxesSubplot at 0x7fb27d022050>"
      ]
     },
     "execution_count": 38,
     "metadata": {},
     "output_type": "execute_result"
    },
    {
     "data": {
      "image/png": "[encoded data removed]",
      "text/plain": [
       "<Figure size 720x432 with 1 Axes>"
      ]
     },
     "metadata": {
      "needs_background": "light"
     },
     "output_type": "display_data"
    }
   ],
   "source": [
    "results_q2.plot(x=\"no of hidden nodes\",y=\"test_error\", figsize = (10,6))"
   ]
  },
  {
   "cell_type": "code",
   "execution_count": null,
   "metadata": {
    "colab": {
     "base_uri": "https://localhost:8080/",
     "height": 415
    },
    "id": "oXzVT_Oeg0aI",
    "outputId": "20710e54-7f24-4ccc-a282-54707df54652"
   },
   "outputs": [
    {
     "data": {
      "text/plain": [
       "<matplotlib.axes._subplots.AxesSubplot at 0x7fb27cefd690>"
      ]
     },
     "execution_count": 39,
     "metadata": {},
     "output_type": "execute_result"
    },
    {
     "data": {
      "image/png": "[encoded data removed]",
      "text/plain": [
       "<Figure size 720x432 with 1 Axes>"
      ]
     },
     "metadata": {
      "needs_background": "light"
     },
     "output_type": "display_data"
    }
   ],
   "source": [
    "results_q2.plot(x=\"no of hidden nodes\",y=\"train_time\", figsize = (10,6))"
   ]
  },
  {
   "cell_type": "markdown",
   "metadata": {
    "id": "hskj1HJ2wAwX"
   },
   "source": [
    "## 3. Effects of Learning Rate "
   ]
  },
  {
   "cell_type": "code",
   "execution_count": null,
   "metadata": {
    "id": "_ClOZB8WLyd3"
   },
   "outputs": [],
   "source": [
    "# Hyperparameters that are not evaluated in this question are kept constant \n",
    "bs = 20\n",
    "no_of_epochs = 20\n",
    "nodes_hidden_1 = 5\n",
    "nodes_hidden_2 = 5\n",
    "\n",
    "# A range of learnign rates to explore \n",
    "learning_rates_q3 = [0.01,0.02,0.05,0.07,0.1,0.12,0.15]"
   ]
  },
  {
   "cell_type": "markdown",
   "metadata": {
    "id": "eesqIuxfrNvq"
   },
   "source": [
    "### 3.1 Non-adaptive Model"
   ]
  },
  {
   "cell_type": "markdown",
   "metadata": {
    "id": "rYfM4L_-9iKJ"
   },
   "source": [
    "##### **Implementing the model using different learning rates**"
   ]
  },
  {
   "cell_type": "code",
   "execution_count": null,
   "metadata": {
    "colab": {
     "base_uri": "https://localhost:8080/"
    },
    "id": "EV05FgrUqDJ0",
    "outputId": "8a034157-c89e-4d15-a8d8-bb7b4d2cdc50"
   },
   "outputs": [],
   "source": [
    "results_q3_1 = pd.DataFrame(columns = [\"lr\",\"nodes_hidden_1\", \"nodes_hidden_2\", \"no_of_epochs\",\"bs\",\"train_loss\", \"train_error\", \"train_time\", \"test_error\"])\n",
    "\n",
    "# Run the model to find the optimal hyperparameters \n",
    "\n",
    "for lr in learning_rates_q3:\n",
    "    net = three_layer_net(48, nodes_hidden_1, nodes_hidden_2, 3)\n",
    "\n",
    "    train_loss, train_error, train_time = training_nn(no_of_epochs, bs, lr,net)\n",
    "    test_error = testing_nn(bs, net)\n",
    "\n",
    "    result = [lr,nodes_hidden_1,nodes_hidden_2,no_of_epochs,bs,train_loss,train_error,train_time,test_error]\n",
    "    print(result)\n",
    "\n",
    "    result = pd.Series(result, index = results_q3_1.columns)\n",
    "    results_q3_1 = results_q3_1.append(result, ignore_index=True)"
   ]
  },
  {
   "cell_type": "markdown",
   "metadata": {
    "id": "U_vYjNmT9qXT"
   },
   "source": [
    "##### **View and visualize the model performance/results**"
   ]
  },
  {
   "cell_type": "code",
   "execution_count": null,
   "metadata": {
    "colab": {
     "base_uri": "https://localhost:8080/",
     "height": 260
    },
    "id": "j6k9zTGuIDc8",
    "outputId": "f153e714-595f-46e5-aa9b-4093e6bbf962"
   },
   "outputs": [
    {
     "data": {
      "text/html": [
       "<div>\n",
       "<style scoped>\n",
       "    .dataframe tbody tr th:only-of-type {\n",
       "        vertical-align: middle;\n",
       "    }\n",
       "\n",
       "    .dataframe tbody tr th {\n",
       "        vertical-align: top;\n",
       "    }\n",
       "\n",
       "    .dataframe thead th {\n",
       "        text-align: right;\n",
       "    }\n",
       "</style>\n",
       "<table border=\"1\" class=\"dataframe\">\n",
       "  <thead>\n",
       "    <tr style=\"text-align: right;\">\n",
       "      <th></th>\n",
       "      <th>lr</th>\n",
       "      <th>nodes_hidden_1</th>\n",
       "      <th>nodes_hidden_2</th>\n",
       "      <th>no_of_epochs</th>\n",
       "      <th>bs</th>\n",
       "      <th>train_loss</th>\n",
       "      <th>train_error</th>\n",
       "      <th>train_time</th>\n",
       "      <th>test_error</th>\n",
       "    </tr>\n",
       "  </thead>\n",
       "  <tbody>\n",
       "    <tr>\n",
       "      <th>0</th>\n",
       "      <td>0.01</td>\n",
       "      <td>5.0</td>\n",
       "      <td>5.0</td>\n",
       "      <td>20.0</td>\n",
       "      <td>20.0</td>\n",
       "      <td>1.055869</td>\n",
       "      <td>0.650962</td>\n",
       "      <td>1.635171e+09</td>\n",
       "      <td>0.679259</td>\n",
       "    </tr>\n",
       "    <tr>\n",
       "      <th>1</th>\n",
       "      <td>0.02</td>\n",
       "      <td>5.0</td>\n",
       "      <td>5.0</td>\n",
       "      <td>20.0</td>\n",
       "      <td>20.0</td>\n",
       "      <td>0.239366</td>\n",
       "      <td>0.088942</td>\n",
       "      <td>1.635171e+09</td>\n",
       "      <td>0.112593</td>\n",
       "    </tr>\n",
       "    <tr>\n",
       "      <th>2</th>\n",
       "      <td>0.05</td>\n",
       "      <td>5.0</td>\n",
       "      <td>5.0</td>\n",
       "      <td>20.0</td>\n",
       "      <td>20.0</td>\n",
       "      <td>0.447954</td>\n",
       "      <td>0.328365</td>\n",
       "      <td>1.635171e+09</td>\n",
       "      <td>0.329630</td>\n",
       "    </tr>\n",
       "    <tr>\n",
       "      <th>3</th>\n",
       "      <td>0.07</td>\n",
       "      <td>5.0</td>\n",
       "      <td>5.0</td>\n",
       "      <td>20.0</td>\n",
       "      <td>20.0</td>\n",
       "      <td>0.067044</td>\n",
       "      <td>0.025000</td>\n",
       "      <td>1.635171e+09</td>\n",
       "      <td>0.024444</td>\n",
       "    </tr>\n",
       "    <tr>\n",
       "      <th>4</th>\n",
       "      <td>0.10</td>\n",
       "      <td>5.0</td>\n",
       "      <td>5.0</td>\n",
       "      <td>20.0</td>\n",
       "      <td>20.0</td>\n",
       "      <td>0.383881</td>\n",
       "      <td>0.311538</td>\n",
       "      <td>1.635171e+09</td>\n",
       "      <td>0.315185</td>\n",
       "    </tr>\n",
       "    <tr>\n",
       "      <th>5</th>\n",
       "      <td>0.12</td>\n",
       "      <td>5.0</td>\n",
       "      <td>5.0</td>\n",
       "      <td>20.0</td>\n",
       "      <td>20.0</td>\n",
       "      <td>0.006429</td>\n",
       "      <td>0.000000</td>\n",
       "      <td>1.635171e+09</td>\n",
       "      <td>0.000000</td>\n",
       "    </tr>\n",
       "    <tr>\n",
       "      <th>6</th>\n",
       "      <td>0.15</td>\n",
       "      <td>5.0</td>\n",
       "      <td>5.0</td>\n",
       "      <td>20.0</td>\n",
       "      <td>20.0</td>\n",
       "      <td>0.121276</td>\n",
       "      <td>0.038942</td>\n",
       "      <td>1.635171e+09</td>\n",
       "      <td>0.036667</td>\n",
       "    </tr>\n",
       "  </tbody>\n",
       "</table>\n",
       "</div>"
      ],
      "text/plain": [
       "     lr  nodes_hidden_1  nodes_hidden_2  ...  train_error    train_time  test_error\n",
       "0  0.01             5.0             5.0  ...     0.650962  1.635171e+09    0.679259\n",
       "1  0.02             5.0             5.0  ...     0.088942  1.635171e+09    0.112593\n",
       "2  0.05             5.0             5.0  ...     0.328365  1.635171e+09    0.329630\n",
       "3  0.07             5.0             5.0  ...     0.025000  1.635171e+09    0.024444\n",
       "4  0.10             5.0             5.0  ...     0.311538  1.635171e+09    0.315185\n",
       "5  0.12             5.0             5.0  ...     0.000000  1.635171e+09    0.000000\n",
       "6  0.15             5.0             5.0  ...     0.038942  1.635171e+09    0.036667\n",
       "\n",
       "[7 rows x 9 columns]"
      ]
     },
     "execution_count": 336,
     "metadata": {},
     "output_type": "execute_result"
    }
   ],
   "source": [
    "results_q3_1"
   ]
  },
  {
   "cell_type": "code",
   "execution_count": null,
   "metadata": {
    "id": "MoHeaA5nLoxR"
   },
   "outputs": [],
   "source": [
    "results_q3_1.plot(x=\"lr\",y=\"test_error\", figsize = (10,6))"
   ]
  },
  {
   "cell_type": "code",
   "execution_count": null,
   "metadata": {
    "id": "AqMmhcSJIXwN"
   },
   "outputs": [],
   "source": [
    "results_q3_1.plot(x=\"lr\",y=\"train_time\", figsize = (10,6))"
   ]
  },
  {
   "cell_type": "markdown",
   "metadata": {
    "id": "zlTOxLlbr_2u"
   },
   "source": [
    "### 3.2 Adaptive Model"
   ]
  },
  {
   "cell_type": "markdown",
   "metadata": {
    "id": "RLqzvH9E974g"
   },
   "source": [
    "##### **Defining a NN cyclical training function**"
   ]
  },
  {
   "cell_type": "code",
   "execution_count": null,
   "metadata": {
    "id": "Z_TyU3SUppng"
   },
   "outputs": [],
   "source": [
    "# Define NN cyclical Training function \n",
    "\n",
    "def training_nn_cyclicLR(no_of_epochs, bs, lr,net):\n",
    "    criterion = nn.CrossEntropyLoss()\n",
    "    optimizer = optimizer=torch.optim.SGD(net.parameters() , lr=lr )\n",
    "    scheduler = torch.optim.lr_scheduler.CyclicLR(optimizer, base_lr=lr, max_lr=0.15)\n",
    "  \n",
    "    start = time.time()\n",
    "\n",
    "    for epoch in range(no_of_epochs):\n",
    "    \n",
    "        running_loss=0\n",
    "        running_error=0\n",
    "        num_batches=0\n",
    "\n",
    "        shuffled_indices=torch.randperm(len(train_data))\n",
    "\n",
    "        for count in range(1, int(len(train_data))-1, bs):\n",
    " \n",
    "            # Set dL/dU, dL/dV, dL/dW to be filled with zeros\n",
    "            optimizer.zero_grad()\n",
    "\n",
    "            # create a minibatch\n",
    "            indices=shuffled_indices[count:count+bs]\n",
    "            minibatch_data =  train_data[indices]\n",
    "            minibatch_label= train_label[indices]\n",
    "\n",
    "            #reshape the minibatch\n",
    "            ##inputs = minibatch_data.view(bs,48)\n",
    "            inputs = minibatch_data\n",
    "\n",
    "            # tell Pytorch to start tracking all operations that will be done on \"inputs\"\n",
    "            inputs.requires_grad_()\n",
    "\n",
    "            # forward the minibatch through the net  \n",
    "            scores=net( inputs ) \n",
    "\n",
    "            # Compute the average of the losses of the data points in the minibatch\n",
    "            loss = criterion(scores , minibatch_label) \n",
    "\n",
    "            # backward pass to compute dL/dU, dL/dV and dL/dW    \n",
    "            loss.backward()\n",
    "\n",
    "            # do one step of stochastic gradient descent: U=U-lr(dL/dU), V=V-lr(dL/dU), ...\n",
    "            optimizer.step()\n",
    "            scheduler.step()\n",
    "\n",
    "            # compute and accumulate stats\n",
    "            running_loss += loss.detach().item()\n",
    "            error = get_error( scores.detach() , minibatch_label)\n",
    "            running_error += error.item()\n",
    "            \n",
    "            ###print(error.item())\n",
    "            ###print(\"running error\",running_error)\n",
    "            num_batches+=1\n",
    "\n",
    "        # End of inner for-loop \n",
    "\n",
    "        # compute stats for the full training set\n",
    "        total_loss = running_loss/num_batches\n",
    "        total_error = running_error/num_batches\n",
    "        elapsed = time.time()-start\n",
    "\n",
    "        ##print('epoch=',epoch, '\\t loss=', total_loss , '\\t error=', total_error*100 ,'percent')\n",
    "        if epoch%10 == 0:\n",
    "            print('epoch=',epoch, '\\t time=', elapsed, '\\t loss=', total_loss , '\\t error=', total_error*100 ,'percent')\n",
    "           # testing_nn(bs, net) \n",
    "            print(' ')\n",
    "\n",
    "    #End of outer for-loop\n",
    "    return total_loss, total_error, time.time()\n"
   ]
  },
  {
   "cell_type": "markdown",
   "metadata": {
    "id": "N09S-uf5-CKk"
   },
   "source": [
    "##### **Implementing the cyclical model using different learning rates**"
   ]
  },
  {
   "cell_type": "code",
   "execution_count": null,
   "metadata": {
    "colab": {
     "base_uri": "https://localhost:8080/"
    },
    "id": "saXXpi-SppiJ",
    "outputId": "ecfe583e-bd2a-4218-ba4f-1266eef05a42"
   },
   "outputs": [],
   "source": [
    "results_q3_2 = pd.DataFrame(columns = [\"lr\",\"nodes_hidden_1\", \"nodes_hidden_2\", \"no_of_epochs\",\"bs\",\"train_loss\", \"train_error\", \"train_time\", \"test_error\"])\n",
    "\n",
    "# Run the model to find the optimal hyperparameters \n",
    "\n",
    "for lr in learning_rates_q3:\n",
    "    net = three_layer_net(48, nodes_hidden_1, nodes_hidden_2, 3)\n",
    "\n",
    "    train_loss, train_error, train_time = training_nn_cyclicLR(no_of_epochs, bs, lr,net)\n",
    "    test_error = testing_nn(bs, net)\n",
    "\n",
    "    result = [lr,nodes_hidden_1,nodes_hidden_2,no_of_epochs,bs,train_loss,train_error,train_time,test_error]\n",
    "    print(result)\n",
    "\n",
    "    result = pd.Series(result, index = results_q3_2.columns)\n",
    "    results_q3_2 = results_q3_2.append(result, ignore_index=True)"
   ]
  },
  {
   "cell_type": "markdown",
   "metadata": {
    "id": "sv7sbZuB-M80"
   },
   "source": [
    "#### **View and visualize the model performance/results**"
   ]
  },
  {
   "cell_type": "code",
   "execution_count": null,
   "metadata": {
    "colab": {
     "base_uri": "https://localhost:8080/",
     "height": 260
    },
    "id": "I1GhxS9OwKh-",
    "outputId": "93fb3537-cbc8-4134-8aff-bad3fdc2fb79"
   },
   "outputs": [
    {
     "data": {
      "text/html": [
       "<div>\n",
       "<style scoped>\n",
       "    .dataframe tbody tr th:only-of-type {\n",
       "        vertical-align: middle;\n",
       "    }\n",
       "\n",
       "    .dataframe tbody tr th {\n",
       "        vertical-align: top;\n",
       "    }\n",
       "\n",
       "    .dataframe thead th {\n",
       "        text-align: right;\n",
       "    }\n",
       "</style>\n",
       "<table border=\"1\" class=\"dataframe\">\n",
       "  <thead>\n",
       "    <tr style=\"text-align: right;\">\n",
       "      <th></th>\n",
       "      <th>lr</th>\n",
       "      <th>nodes_hidden_1</th>\n",
       "      <th>nodes_hidden_2</th>\n",
       "      <th>no_of_epochs</th>\n",
       "      <th>bs</th>\n",
       "      <th>train_loss</th>\n",
       "      <th>train_error</th>\n",
       "      <th>train_time</th>\n",
       "      <th>test_error</th>\n",
       "    </tr>\n",
       "  </thead>\n",
       "  <tbody>\n",
       "    <tr>\n",
       "      <th>0</th>\n",
       "      <td>0.01</td>\n",
       "      <td>5.0</td>\n",
       "      <td>5.0</td>\n",
       "      <td>20.0</td>\n",
       "      <td>20.0</td>\n",
       "      <td>0.797797</td>\n",
       "      <td>0.647596</td>\n",
       "      <td>1.635172e+09</td>\n",
       "      <td>0.679259</td>\n",
       "    </tr>\n",
       "    <tr>\n",
       "      <th>1</th>\n",
       "      <td>0.02</td>\n",
       "      <td>5.0</td>\n",
       "      <td>5.0</td>\n",
       "      <td>20.0</td>\n",
       "      <td>20.0</td>\n",
       "      <td>1.098612</td>\n",
       "      <td>0.649038</td>\n",
       "      <td>1.635172e+09</td>\n",
       "      <td>0.679259</td>\n",
       "    </tr>\n",
       "    <tr>\n",
       "      <th>2</th>\n",
       "      <td>0.05</td>\n",
       "      <td>5.0</td>\n",
       "      <td>5.0</td>\n",
       "      <td>20.0</td>\n",
       "      <td>20.0</td>\n",
       "      <td>0.759772</td>\n",
       "      <td>0.647596</td>\n",
       "      <td>1.635172e+09</td>\n",
       "      <td>0.679259</td>\n",
       "    </tr>\n",
       "    <tr>\n",
       "      <th>3</th>\n",
       "      <td>0.07</td>\n",
       "      <td>5.0</td>\n",
       "      <td>5.0</td>\n",
       "      <td>20.0</td>\n",
       "      <td>20.0</td>\n",
       "      <td>1.098612</td>\n",
       "      <td>0.647596</td>\n",
       "      <td>1.635172e+09</td>\n",
       "      <td>0.679259</td>\n",
       "    </tr>\n",
       "    <tr>\n",
       "      <th>4</th>\n",
       "      <td>0.10</td>\n",
       "      <td>5.0</td>\n",
       "      <td>5.0</td>\n",
       "      <td>20.0</td>\n",
       "      <td>20.0</td>\n",
       "      <td>0.742588</td>\n",
       "      <td>0.647596</td>\n",
       "      <td>1.635172e+09</td>\n",
       "      <td>0.679259</td>\n",
       "    </tr>\n",
       "    <tr>\n",
       "      <th>5</th>\n",
       "      <td>0.12</td>\n",
       "      <td>5.0</td>\n",
       "      <td>5.0</td>\n",
       "      <td>20.0</td>\n",
       "      <td>20.0</td>\n",
       "      <td>1.098612</td>\n",
       "      <td>0.652404</td>\n",
       "      <td>1.635172e+09</td>\n",
       "      <td>0.679259</td>\n",
       "    </tr>\n",
       "    <tr>\n",
       "      <th>6</th>\n",
       "      <td>0.15</td>\n",
       "      <td>5.0</td>\n",
       "      <td>5.0</td>\n",
       "      <td>20.0</td>\n",
       "      <td>20.0</td>\n",
       "      <td>0.715681</td>\n",
       "      <td>0.647596</td>\n",
       "      <td>1.635172e+09</td>\n",
       "      <td>0.679259</td>\n",
       "    </tr>\n",
       "  </tbody>\n",
       "</table>\n",
       "</div>"
      ],
      "text/plain": [
       "     lr  nodes_hidden_1  nodes_hidden_2  ...  train_error    train_time  test_error\n",
       "0  0.01             5.0             5.0  ...     0.647596  1.635172e+09    0.679259\n",
       "1  0.02             5.0             5.0  ...     0.649038  1.635172e+09    0.679259\n",
       "2  0.05             5.0             5.0  ...     0.647596  1.635172e+09    0.679259\n",
       "3  0.07             5.0             5.0  ...     0.647596  1.635172e+09    0.679259\n",
       "4  0.10             5.0             5.0  ...     0.647596  1.635172e+09    0.679259\n",
       "5  0.12             5.0             5.0  ...     0.652404  1.635172e+09    0.679259\n",
       "6  0.15             5.0             5.0  ...     0.647596  1.635172e+09    0.679259\n",
       "\n",
       "[7 rows x 9 columns]"
      ]
     },
     "execution_count": 345,
     "metadata": {},
     "output_type": "execute_result"
    }
   ],
   "source": [
    "results_q3_2"
   ]
  },
  {
   "cell_type": "code",
   "execution_count": null,
   "metadata": {
    "colab": {
     "base_uri": "https://localhost:8080/",
     "height": 403
    },
    "id": "G-BKmdcGwKW9",
    "outputId": "b82ec708-f048-4ee9-afbd-579fb386f930"
   },
   "outputs": [
    {
     "data": {
      "text/plain": [
       "<matplotlib.axes._subplots.AxesSubplot at 0x7fb278b10150>"
      ]
     },
     "execution_count": 346,
     "metadata": {},
     "output_type": "execute_result"
    },
    {
     "data": {
      "image/png": "[encoded data removed]",
      "text/plain": [
       "<Figure size 720x432 with 1 Axes>"
      ]
     },
     "metadata": {
      "needs_background": "light"
     },
     "output_type": "display_data"
    }
   ],
   "source": [
    "results_q3_2.plot(x=\"lr\",y=\"test_error\", figsize = (10,6))"
   ]
  },
  {
   "cell_type": "code",
   "execution_count": null,
   "metadata": {
    "colab": {
     "base_uri": "https://localhost:8080/",
     "height": 415
    },
    "id": "hD13QEjnuM10",
    "outputId": "721133ac-8223-4cf2-ccbd-3d91d96b712e"
   },
   "outputs": [
    {
     "data": {
      "text/plain": [
       "<matplotlib.axes._subplots.AxesSubplot at 0x7fb278a86b50>"
      ]
     },
     "execution_count": 347,
     "metadata": {},
     "output_type": "execute_result"
    },
    {
     "data": {
      "image/png": "[encoded data removed]",
      "text/plain": [
       "<Figure size 720x432 with 1 Axes>"
      ]
     },
     "metadata": {
      "needs_background": "light"
     },
     "output_type": "display_data"
    }
   ],
   "source": [
    "results_q3_2.plot(x=\"lr\",y=\"train_time\", figsize = (10,6))"
   ]
  },
  {
   "cell_type": "markdown",
   "metadata": {
    "id": "I6viiTqnwLfb"
   },
   "source": [
    "## 4. Effects of batch size "
   ]
  },
  {
   "cell_type": "code",
   "execution_count": null,
   "metadata": {
    "id": "YdJ-upPAmAxS"
   },
   "outputs": [],
   "source": [
    "# define the set of different minibatch size to loop through \n",
    "batch_sizes = [1, 2, 5, 10, 25, 50, 100, 300, 500, 1000, 1500, len(train_data)] "
   ]
  },
  {
   "cell_type": "code",
   "execution_count": null,
   "metadata": {
    "id": "RUO6Ev1hmoQO"
   },
   "outputs": [],
   "source": [
    "# Hyperparameters that are note evaluated in this question are kept constant \n",
    "nodes_hidden_1 = 5\n",
    "nodes_hidden_2 = 5\n",
    "no_of_epochs = 20\n",
    "lr = 0.01"
   ]
  },
  {
   "cell_type": "markdown",
   "metadata": {
    "id": "jntIymol-dXL"
   },
   "source": [
    "##### **Implementing the model using different batch size**"
   ]
  },
  {
   "cell_type": "code",
   "execution_count": null,
   "metadata": {
    "colab": {
     "base_uri": "https://localhost:8080/"
    },
    "id": "_PIwZOCsmYMI",
    "outputId": "9829fb2b-83de-4dd3-d418-7bac90a24790"
   },
   "outputs": [],
   "source": [
    "results_q4 = pd.DataFrame(columns = [\"lr\",\"nodes_hidden_1\", \"nodes_hidden_2\", \"no_of_epochs\",\"bs\",\"train_loss\", \"train_error\", \"train_time\", \"test_error\"])\n",
    "\n",
    "# Run the model to find the optimal hyperparameters \n",
    "\n",
    "for bs in batch_sizes:\n",
    "    net = three_layer_net(48, nodes_hidden_1, nodes_hidden_2, 3)\n",
    "\n",
    "    train_loss, train_error, train_time = training_nn(no_of_epochs, bs, lr,net)\n",
    "    test_error = testing_nn(bs, net)\n",
    "\n",
    "    result = [lr,nodes_hidden_1,nodes_hidden_2,no_of_epochs,bs,train_loss,train_error,train_time,test_error]\n",
    "    print(result)\n",
    "\n",
    "    result = pd.Series(result, index = results_q4.columns)\n",
    "    results_q4 = results_q4.append(result, ignore_index=True)\n",
    "\n"
   ]
  },
  {
   "cell_type": "markdown",
   "metadata": {
    "id": "yR24pzjv-sOj"
   },
   "source": [
    "##### **View and visualize the model performance/results**"
   ]
  },
  {
   "cell_type": "code",
   "execution_count": null,
   "metadata": {
    "colab": {
     "base_uri": "https://localhost:8080/",
     "height": 411
    },
    "id": "9J-fSBq9nSDm",
    "outputId": "db28a234-2d00-42e6-924d-748c802e5f1d"
   },
   "outputs": [
    {
     "data": {
      "text/html": [
       "<div>\n",
       "<style scoped>\n",
       "    .dataframe tbody tr th:only-of-type {\n",
       "        vertical-align: middle;\n",
       "    }\n",
       "\n",
       "    .dataframe tbody tr th {\n",
       "        vertical-align: top;\n",
       "    }\n",
       "\n",
       "    .dataframe thead th {\n",
       "        text-align: right;\n",
       "    }\n",
       "</style>\n",
       "<table border=\"1\" class=\"dataframe\">\n",
       "  <thead>\n",
       "    <tr style=\"text-align: right;\">\n",
       "      <th></th>\n",
       "      <th>lr</th>\n",
       "      <th>nodes_hidden_1</th>\n",
       "      <th>nodes_hidden_2</th>\n",
       "      <th>no_of_epochs</th>\n",
       "      <th>bs</th>\n",
       "      <th>train_loss</th>\n",
       "      <th>train_error</th>\n",
       "      <th>train_time</th>\n",
       "      <th>test_error</th>\n",
       "    </tr>\n",
       "  </thead>\n",
       "  <tbody>\n",
       "    <tr>\n",
       "      <th>0</th>\n",
       "      <td>0.01</td>\n",
       "      <td>5.0</td>\n",
       "      <td>5.0</td>\n",
       "      <td>20.0</td>\n",
       "      <td>1.0</td>\n",
       "      <td>0.009807</td>\n",
       "      <td>0.002907</td>\n",
       "      <td>1.635169e+09</td>\n",
       "      <td>0.003390</td>\n",
       "    </tr>\n",
       "    <tr>\n",
       "      <th>1</th>\n",
       "      <td>0.01</td>\n",
       "      <td>5.0</td>\n",
       "      <td>5.0</td>\n",
       "      <td>20.0</td>\n",
       "      <td>2.0</td>\n",
       "      <td>0.025388</td>\n",
       "      <td>0.007752</td>\n",
       "      <td>1.635169e+09</td>\n",
       "      <td>0.000000</td>\n",
       "    </tr>\n",
       "    <tr>\n",
       "      <th>2</th>\n",
       "      <td>0.01</td>\n",
       "      <td>5.0</td>\n",
       "      <td>5.0</td>\n",
       "      <td>20.0</td>\n",
       "      <td>5.0</td>\n",
       "      <td>0.084488</td>\n",
       "      <td>0.025182</td>\n",
       "      <td>1.635169e+09</td>\n",
       "      <td>0.014689</td>\n",
       "    </tr>\n",
       "    <tr>\n",
       "      <th>3</th>\n",
       "      <td>0.01</td>\n",
       "      <td>5.0</td>\n",
       "      <td>5.0</td>\n",
       "      <td>20.0</td>\n",
       "      <td>10.0</td>\n",
       "      <td>0.788072</td>\n",
       "      <td>0.649275</td>\n",
       "      <td>1.635169e+09</td>\n",
       "      <td>0.679401</td>\n",
       "    </tr>\n",
       "    <tr>\n",
       "      <th>4</th>\n",
       "      <td>0.01</td>\n",
       "      <td>5.0</td>\n",
       "      <td>5.0</td>\n",
       "      <td>20.0</td>\n",
       "      <td>25.0</td>\n",
       "      <td>1.093958</td>\n",
       "      <td>0.630201</td>\n",
       "      <td>1.635169e+09</td>\n",
       "      <td>0.612626</td>\n",
       "    </tr>\n",
       "    <tr>\n",
       "      <th>5</th>\n",
       "      <td>0.01</td>\n",
       "      <td>5.0</td>\n",
       "      <td>5.0</td>\n",
       "      <td>20.0</td>\n",
       "      <td>50.0</td>\n",
       "      <td>1.039591</td>\n",
       "      <td>0.578413</td>\n",
       "      <td>1.635169e+09</td>\n",
       "      <td>0.560679</td>\n",
       "    </tr>\n",
       "    <tr>\n",
       "      <th>6</th>\n",
       "      <td>0.01</td>\n",
       "      <td>5.0</td>\n",
       "      <td>5.0</td>\n",
       "      <td>20.0</td>\n",
       "      <td>100.0</td>\n",
       "      <td>1.091910</td>\n",
       "      <td>0.602344</td>\n",
       "      <td>1.635169e+09</td>\n",
       "      <td>0.592351</td>\n",
       "    </tr>\n",
       "    <tr>\n",
       "      <th>7</th>\n",
       "      <td>0.01</td>\n",
       "      <td>5.0</td>\n",
       "      <td>5.0</td>\n",
       "      <td>20.0</td>\n",
       "      <td>300.0</td>\n",
       "      <td>1.092535</td>\n",
       "      <td>0.649137</td>\n",
       "      <td>1.635169e+09</td>\n",
       "      <td>0.679386</td>\n",
       "    </tr>\n",
       "    <tr>\n",
       "      <th>8</th>\n",
       "      <td>0.01</td>\n",
       "      <td>5.0</td>\n",
       "      <td>5.0</td>\n",
       "      <td>20.0</td>\n",
       "      <td>500.0</td>\n",
       "      <td>1.099619</td>\n",
       "      <td>0.672031</td>\n",
       "      <td>1.635169e+09</td>\n",
       "      <td>0.685674</td>\n",
       "    </tr>\n",
       "    <tr>\n",
       "      <th>9</th>\n",
       "      <td>0.01</td>\n",
       "      <td>5.0</td>\n",
       "      <td>5.0</td>\n",
       "      <td>20.0</td>\n",
       "      <td>1000.0</td>\n",
       "      <td>1.097514</td>\n",
       "      <td>0.682846</td>\n",
       "      <td>1.635169e+09</td>\n",
       "      <td>0.669300</td>\n",
       "    </tr>\n",
       "    <tr>\n",
       "      <th>10</th>\n",
       "      <td>0.01</td>\n",
       "      <td>5.0</td>\n",
       "      <td>5.0</td>\n",
       "      <td>20.0</td>\n",
       "      <td>1500.0</td>\n",
       "      <td>1.097230</td>\n",
       "      <td>0.592805</td>\n",
       "      <td>1.635169e+09</td>\n",
       "      <td>0.593679</td>\n",
       "    </tr>\n",
       "    <tr>\n",
       "      <th>11</th>\n",
       "      <td>0.01</td>\n",
       "      <td>5.0</td>\n",
       "      <td>5.0</td>\n",
       "      <td>20.0</td>\n",
       "      <td>2066.0</td>\n",
       "      <td>1.098556</td>\n",
       "      <td>0.649879</td>\n",
       "      <td>1.635169e+09</td>\n",
       "      <td>0.679458</td>\n",
       "    </tr>\n",
       "  </tbody>\n",
       "</table>\n",
       "</div>"
      ],
      "text/plain": [
       "      lr  nodes_hidden_1  nodes_hidden_2  ...  train_error    train_time  test_error\n",
       "0   0.01             5.0             5.0  ...     0.002907  1.635169e+09    0.003390\n",
       "1   0.01             5.0             5.0  ...     0.007752  1.635169e+09    0.000000\n",
       "2   0.01             5.0             5.0  ...     0.025182  1.635169e+09    0.014689\n",
       "3   0.01             5.0             5.0  ...     0.649275  1.635169e+09    0.679401\n",
       "4   0.01             5.0             5.0  ...     0.630201  1.635169e+09    0.612626\n",
       "5   0.01             5.0             5.0  ...     0.578413  1.635169e+09    0.560679\n",
       "6   0.01             5.0             5.0  ...     0.602344  1.635169e+09    0.592351\n",
       "7   0.01             5.0             5.0  ...     0.649137  1.635169e+09    0.679386\n",
       "8   0.01             5.0             5.0  ...     0.672031  1.635169e+09    0.685674\n",
       "9   0.01             5.0             5.0  ...     0.682846  1.635169e+09    0.669300\n",
       "10  0.01             5.0             5.0  ...     0.592805  1.635169e+09    0.593679\n",
       "11  0.01             5.0             5.0  ...     0.649879  1.635169e+09    0.679458\n",
       "\n",
       "[12 rows x 9 columns]"
      ]
     },
     "execution_count": 83,
     "metadata": {},
     "output_type": "execute_result"
    }
   ],
   "source": [
    "results_q4"
   ]
  },
  {
   "cell_type": "code",
   "execution_count": null,
   "metadata": {
    "colab": {
     "base_uri": "https://localhost:8080/",
     "height": 403
    },
    "id": "QBrULVWNm_er",
    "outputId": "777bddd2-15b7-49da-fbd2-c064955a473a"
   },
   "outputs": [
    {
     "data": {
      "text/plain": [
       "<matplotlib.axes._subplots.AxesSubplot at 0x7fb27c6040d0>"
      ]
     },
     "execution_count": 84,
     "metadata": {},
     "output_type": "execute_result"
    },
    {
     "data": {
      "image/png": "[encoded data removed]",
      "text/plain": [
       "<Figure size 720x432 with 1 Axes>"
      ]
     },
     "metadata": {
      "needs_background": "light"
     },
     "output_type": "display_data"
    }
   ],
   "source": [
    "results_q4.plot(x=\"bs\",y=\"test_error\", figsize = (10,6))"
   ]
  },
  {
   "cell_type": "code",
   "execution_count": null,
   "metadata": {
    "colab": {
     "base_uri": "https://localhost:8080/",
     "height": 415
    },
    "id": "KYyM6tsvm_MB",
    "outputId": "69e55dcb-2314-4f94-e823-fd76ec24c1b2"
   },
   "outputs": [
    {
     "data": {
      "text/plain": [
       "<matplotlib.axes._subplots.AxesSubplot at 0x7fb27c4f1bd0>"
      ]
     },
     "execution_count": 85,
     "metadata": {},
     "output_type": "execute_result"
    },
    {
     "data": {
      "image/png": "[encoded data removed]",
      "text/plain": [
       "<Figure size 720x432 with 1 Axes>"
      ]
     },
     "metadata": {
      "needs_background": "light"
     },
     "output_type": "display_data"
    }
   ],
   "source": [
    "results_q4.plot(x=\"bs\",y=\"train_time\", figsize = (10,6))"
   ]
  }
 ],
 "metadata": {
  "colab": {
   "collapsed_sections": [
    "lQt7d0J4q6vj",
    "U_vYjNmT9qXT",
    "N09S-uf5-CKk",
    "sv7sbZuB-M80"
   ],
   "name": "CZ3005 Assignment 2 Codes - (Shao Yakun - FS6).ipynb",
   "provenance": [],
   "toc_visible": true
  },
  "kernelspec": {
   "display_name": "Python 3",
   "language": "python",
   "name": "python3"
  },
  "language_info": {
   "codemirror_mode": {
    "name": "ipython",
    "version": 3
   },
   "file_extension": ".py",
   "mimetype": "text/x-python",
   "name": "python",
   "nbconvert_exporter": "python",
   "pygments_lexer": "ipython3",
   "version": "3.8.5"
  }
 },
 "nbformat": 4,
 "nbformat_minor": 1
}
